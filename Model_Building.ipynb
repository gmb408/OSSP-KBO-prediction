{
  "cells": [
    {
      "cell_type": "markdown",
      "metadata": {
        "id": "view-in-github",
        "colab_type": "text"
      },
      "source": [
        "<a href=\"https://colab.research.google.com/github/gmb408/OSSP-KBO-prediction/blob/main/Model_Building.ipynb\" target=\"_parent\"><img src=\"https://colab.research.google.com/assets/colab-badge.svg\" alt=\"Open In Colab\"/></a>"
      ]
    },
    {
      "cell_type": "code",
      "execution_count": null,
      "metadata": {
        "id": "1B9YyAjxvw_N"
      },
      "outputs": [],
      "source": [
        "# 데이터 분석 모듈\n",
        "import pandas as pd\n",
        "import numpy as np\n",
        "import matplotlib.pyplot as plt\n",
        "import seaborn as sns\n",
        "import time\n",
        "from datetime import datetime\n",
        "from sklearn.model_selection import KFold\n",
        "from sklearn.metrics import mean_absolute_error\n"
      ]
    },
    {
      "cell_type": "code",
      "execution_count": null,
      "metadata": {
        "id": "MrGuWZxjunMP"
      },
      "outputs": [],
      "source": [
        "# 출력 할 때 마다, 기존 출력물들은 제거해주는 모듈\n",
        "from IPython.display import clear_output"
      ]
    },
    {
      "cell_type": "code",
      "execution_count": null,
      "metadata": {
        "id": "5xaGNWvDu6XA"
      },
      "outputs": [],
      "source": [
        "# 모델 모듈\n",
        "from xgboost import XGBRegressor, plot_importance\n",
        "from lightgbm import LGBMRegressor\n",
        "from sklearn.ensemble import RandomForestRegressor\n",
        "from sklearn.ensemble import GradientBoostingRegressor\n",
        "from sklearn.svm import SVR\n",
        "from sklearn.linear_model import Ridge, Lasso, LinearRegression, ElasticNet\n",
        "from sklearn.neighbors import KNeighborsRegressor\n",
        "from sklearn.metrics import mean_squared_error, r2_score\n",
        "from sklearn.preprocessing import StandardScaler, MinMaxScaler"
      ]
    },
    {
      "cell_type": "code",
      "execution_count": null,
      "metadata": {
        "id": "OKt-yz7Uu-kB"
      },
      "outputs": [],
      "source": [
        "result = pd.read_csv(\"/content/statiz_Final.csv\", index_col=0)"
      ]
    },
    {
      "cell_type": "code",
      "execution_count": null,
      "metadata": {
        "id": "y7FbMR4fu-sV"
      },
      "outputs": [],
      "source": [
        "# 사용 features 명시\n",
        "infos = ['ID','이름','생일','팀','시즌','포지션','나이']\n",
        "stats = ['G','타수','득점','안타','1타','2타','3타','홈런','루타','타점','도루','도실','볼넷','사구','고4','삼진'\\\n",
        "        ,'병살','희타','희비','타율','출루','장타','OPS']"
      ]
    },
    {
      "cell_type": "code",
      "execution_count": null,
      "metadata": {
        "id": "1GtICqkWu-u5"
      },
      "outputs": [],
      "source": [
        "# 누적 및 lag stat features 이름\n",
        "stats_age = [i + '_AGE' for i in stats]\n",
        "stats_cum = [i + '_누적' for i in stats]\n",
        "stats_lag1 = [i + '_LAG1' for i in stats]\n",
        "stats_lag2 = [i + '_LAG2' for i in stats]\n",
        "stats_lag3 = [i + '_LAG3' for i in stats]"
      ]
    },
    {
      "cell_type": "code",
      "execution_count": null,
      "metadata": {
        "id": "kXYhHChEu-xj"
      },
      "outputs": [],
      "source": [
        "# X features와 y feature 정리\n",
        "stats_position = ['2B', '3B', 'C', 'CF', 'DH', 'LF', 'RF', 'SS']\n",
        "X_cols = stats + stats_age + stats_cum + stats_lag1 + stats_lag2 + stats_position\n",
        "y_cols = ['OPS_NEXT']\n",
        "\n",
        "#예측에 사용되는 수치형 데이터 표준화\n",
        "z_cols = stats + stats_cum + stats_lag1 + stats_lag2 +['나이']\n",
        "\n",
        "stand = pd.DataFrame(data=result,columns=z_cols)\n",
        "scaler = StandardScaler()\n",
        "scaler.fit(stand)\n",
        "data_scaled = scaler.transform(stand)\n",
        "result_scaled = pd.DataFrame(data_scaled,columns=z_cols)\n",
        "result[z_cols] = result_scaled[z_cols]\n"
      ]
    },
    {
      "cell_type": "code",
      "source": [
        "df = result.fillna(-1) # nan값 -1로 impute \n",
        "df = df[df['OPS_NEXT'] > 0] # 다음 해의 OPS가 존재하는 값들만 추출 (다음 해 OPS 가 없다면, predict 값과 target값을 비교 할 수 없기 때문)\n",
        "df = pd.concat([df, pd.get_dummies(df['포지션'], drop_first=True)], axis=1) # 포지션 dummy variable로 변환"
      ],
      "metadata": {
        "id": "2CdI6WP-SOKd"
      },
      "execution_count": null,
      "outputs": []
    },
    {
      "cell_type": "code",
      "execution_count": null,
      "metadata": {
        "id": "VWgoOWOmu-0W"
      },
      "outputs": [],
      "source": [
        "# 학습시킬 모델\n",
        "model_dict = {'xgb':XGBRegressor(objective ='reg:squarederror',n_estimators=110, learning_rate=0.05 ,max_depth=3, min_samples_split=400, random_state=23),\n",
        "              'lgbm':LGBMRegressor(random_state=23),\n",
        "              'rf':RandomForestRegressor(),\n",
        "              'svr':SVR(),\n",
        "              'knn':KNeighborsRegressor(),\n",
        "              'reg':LinearRegression(),\n",
        "              'ridge':Ridge(),\n",
        "              'gbm' : GradientBoostingRegressor(random_state=23)\n",
        "              }"
      ]
    },
    {
      "cell_type": "code",
      "source": [
        "def get_stacking_base_datasets(model, train,test, n_folds ):\n",
        "    # 지정된 n_folds값으로 KFold 생성.\n",
        "    kf = KFold(n_splits=n_folds, shuffle=False)\n",
        "\n",
        "    #추후에 메타 모델이 사용할 학습 데이터 반환을 위한 넘파이 배열 초기화 \n",
        "    train_fold_pred = np.zeros((train.shape[0] ,1 ))\n",
        "    test_pred = np.zeros((test.shape[0],n_folds))\n",
        "    print(model.__class__.__name__ , ' model 시작 ')\n",
        "\n",
        "    \n",
        "    for folder_counter , (train_index, valid_index) in enumerate(kf.split(train)):\n",
        "        #입력된 학습 데이터에서 기반 모델이 학습/예측할 폴드 데이터 셋 추출 \n",
        "        print('\\t 폴드 세트: ',folder_counter,' 시작 ')\n",
        "        tra, val = train.iloc[train_index], train.iloc[valid_index]\n",
        "        X_tr = tra[X_cols] \n",
        "        y_tr = tra[y_cols] \n",
        "        X_vl = val[X_cols]\n",
        "        \n",
        "        #폴드 세트 내부에서 다시 만들어진 학습 데이터로 기반 모델의 학습 수행.\n",
        "        model.fit(X_tr , y_tr)       \n",
        "        #폴드 세트 내부에서 다시 만들어진 검증 데이터로 기반 모델 예측 후 데이터 저장.\n",
        "        train_fold_pred[valid_index, :] = model.predict(X_vl).reshape(-1,1)\n",
        "        #입력된 원본 테스트 데이터를 폴드 세트내 학습된 기반 모델에서 예측 후 데이터 저장. \n",
        "        test_pred[:, folder_counter] = model.predict(test[X_cols])   \n",
        "    # 폴드 세트 내에서 원본 테스트 데이터를 예측한 데이터를 평균하여 테스트 데이터로 생성 \n",
        "    test_pred_mean = np.mean(test_pred, axis=1).reshape(-1,1)    \n",
        "    \n",
        "    #train_fold_pred는 최종 메타 모델이 사용하는 학습 데이터, test_pred_mean은 테스트 데이터\n",
        "    return train_fold_pred , test_pred_mean"
      ],
      "metadata": {
        "id": "hzEdJmtnYtjR"
      },
      "execution_count": null,
      "outputs": []
    },
    {
      "cell_type": "code",
      "source": [
        "model = model_dict['xgb']\n",
        "model2 = model_dict['lgbm']\n",
        "model3 = model_dict['gbm']\n",
        "model4 = model_dict['xgb']\n",
        "\n",
        "test_error = []\n",
        "r2 = []\n",
        "\n",
        "#학습용 데이터 ~2016 테스트데이터 2016~2021\n",
        "train = df[df['시즌'] < 2016].reset_index(drop=True)\n",
        "test = df[(df['시즌'] > 2016) & (2022 > df['시즌'])].reset_index(drop=True)\n",
        "\n",
        "y_train = train[y_cols]\n",
        "y_test = test[y_cols]\n",
        "\n",
        "# 개별 기반 모델에서 최종 메타 모델이 사용할 학습 및 테스트용 데이터를 생성하기 위한 함수. \n",
        "\n",
        "# CV스태킹 알고리즘 각 모델에 적용\n",
        "xgb_train, xgb_test = get_stacking_base_datasets(model,train,test, 7)\n",
        "lgbm_train, lgbm_test = get_stacking_base_datasets(model2, train,test, 7)\n",
        "gbm_train, gbm_test = get_stacking_base_datasets(model3,train,test,  7)    \n",
        "\n",
        "# CV스태킹 알고리즘 결과로 메타 모델 학습/시험에 필요한 result_a result_b 만들기 \n",
        "Stack_final_X_train = np.concatenate((xgb_train, lgbm_train, gbm_train), axis=1)\n",
        "Stack_final_X_test = np.concatenate((xgb_test, lgbm_test, gbm_test), axis=1)\n",
        "\n",
        "# 메타 모델 학습\n",
        "model4.fit(Stack_final_X_train,y_train )\n",
        "stack_final = model4.predict(Stack_final_X_test)\n"
      ],
      "metadata": {
        "colab": {
          "base_uri": "https://localhost:8080/"
        },
        "id": "1PIdZePEyDeL",
        "outputId": "e95c8d23-537c-47ef-ff38-ada386836b19"
      },
      "execution_count": null,
      "outputs": [
        {
          "output_type": "stream",
          "name": "stdout",
          "text": [
            "XGBRegressor  model 시작 \n",
            "\t 폴드 세트:  0  시작 \n",
            "\t 폴드 세트:  1  시작 \n",
            "\t 폴드 세트:  2  시작 \n",
            "\t 폴드 세트:  3  시작 \n",
            "\t 폴드 세트:  4  시작 \n",
            "\t 폴드 세트:  5  시작 \n",
            "\t 폴드 세트:  6  시작 \n",
            "LGBMRegressor  model 시작 \n",
            "\t 폴드 세트:  0  시작 \n",
            "\t 폴드 세트:  1  시작 \n",
            "\t 폴드 세트:  2  시작 \n",
            "\t 폴드 세트:  3  시작 \n",
            "\t 폴드 세트:  4  시작 \n",
            "\t 폴드 세트:  5  시작 \n",
            "\t 폴드 세트:  6  시작 \n",
            "GradientBoostingRegressor  model 시작 \n",
            "\t 폴드 세트:  0  시작 \n"
          ]
        },
        {
          "output_type": "stream",
          "name": "stderr",
          "text": [
            "/usr/local/lib/python3.8/dist-packages/sklearn/ensemble/_gb.py:494: DataConversionWarning: A column-vector y was passed when a 1d array was expected. Please change the shape of y to (n_samples, ), for example using ravel().\n",
            "  y = column_or_1d(y, warn=True)\n"
          ]
        },
        {
          "output_type": "stream",
          "name": "stdout",
          "text": [
            "\t 폴드 세트:  1  시작 \n"
          ]
        },
        {
          "output_type": "stream",
          "name": "stderr",
          "text": [
            "/usr/local/lib/python3.8/dist-packages/sklearn/ensemble/_gb.py:494: DataConversionWarning: A column-vector y was passed when a 1d array was expected. Please change the shape of y to (n_samples, ), for example using ravel().\n",
            "  y = column_or_1d(y, warn=True)\n"
          ]
        },
        {
          "output_type": "stream",
          "name": "stdout",
          "text": [
            "\t 폴드 세트:  2  시작 \n"
          ]
        },
        {
          "output_type": "stream",
          "name": "stderr",
          "text": [
            "/usr/local/lib/python3.8/dist-packages/sklearn/ensemble/_gb.py:494: DataConversionWarning: A column-vector y was passed when a 1d array was expected. Please change the shape of y to (n_samples, ), for example using ravel().\n",
            "  y = column_or_1d(y, warn=True)\n"
          ]
        },
        {
          "output_type": "stream",
          "name": "stdout",
          "text": [
            "\t 폴드 세트:  3  시작 \n"
          ]
        },
        {
          "output_type": "stream",
          "name": "stderr",
          "text": [
            "/usr/local/lib/python3.8/dist-packages/sklearn/ensemble/_gb.py:494: DataConversionWarning: A column-vector y was passed when a 1d array was expected. Please change the shape of y to (n_samples, ), for example using ravel().\n",
            "  y = column_or_1d(y, warn=True)\n"
          ]
        },
        {
          "output_type": "stream",
          "name": "stdout",
          "text": [
            "\t 폴드 세트:  4  시작 \n"
          ]
        },
        {
          "output_type": "stream",
          "name": "stderr",
          "text": [
            "/usr/local/lib/python3.8/dist-packages/sklearn/ensemble/_gb.py:494: DataConversionWarning: A column-vector y was passed when a 1d array was expected. Please change the shape of y to (n_samples, ), for example using ravel().\n",
            "  y = column_or_1d(y, warn=True)\n"
          ]
        },
        {
          "output_type": "stream",
          "name": "stdout",
          "text": [
            "\t 폴드 세트:  5  시작 \n"
          ]
        },
        {
          "output_type": "stream",
          "name": "stderr",
          "text": [
            "/usr/local/lib/python3.8/dist-packages/sklearn/ensemble/_gb.py:494: DataConversionWarning: A column-vector y was passed when a 1d array was expected. Please change the shape of y to (n_samples, ), for example using ravel().\n",
            "  y = column_or_1d(y, warn=True)\n"
          ]
        },
        {
          "output_type": "stream",
          "name": "stdout",
          "text": [
            "\t 폴드 세트:  6  시작 \n"
          ]
        },
        {
          "output_type": "stream",
          "name": "stderr",
          "text": [
            "/usr/local/lib/python3.8/dist-packages/sklearn/ensemble/_gb.py:494: DataConversionWarning: A column-vector y was passed when a 1d array was expected. Please change the shape of y to (n_samples, ), for example using ravel().\n",
            "  y = column_or_1d(y, warn=True)\n"
          ]
        }
      ]
    },
    {
      "cell_type": "code",
      "source": [
        "#검증 지표\n",
        "mse=mean_squared_error(y_test,  stack_final ,squared=False)\n",
        "rmse =  np.sqrt(mse)\n",
        "r2 =r2_score(y_test, stack_final)\n",
        "print(\"test error : \", mse)\n",
        "print(\"RMSE : \", rmse)\n",
        "print(\"r2 : \", r2)\n",
        "print(\"완료\")"
      ],
      "metadata": {
        "colab": {
          "base_uri": "https://localhost:8080/"
        },
        "id": "AaHuazGVk3AJ",
        "outputId": "a5404ba0-8eae-4d24-ca05-2e4bf595c47d"
      },
      "execution_count": null,
      "outputs": [
        {
          "output_type": "stream",
          "name": "stdout",
          "text": [
            "test error :  0.10619172350840085\n",
            "RMSE :  0.32587071594176864\n",
            "r2 :  0.3311826930226319\n",
            "완료\n"
          ]
        }
      ]
    },
    {
      "cell_type": "code",
      "execution_count": null,
      "metadata": {
        "colab": {
          "base_uri": "https://localhost:8080/",
          "height": 297
        },
        "id": "Dipo3D29vaht",
        "outputId": "bc4199d8-1435-4210-a676-9cd87ec65e13"
      },
      "outputs": [
        {
          "output_type": "execute_result",
          "data": {
            "text/plain": [
              "(0.0, 1.5)"
            ]
          },
          "metadata": {},
          "execution_count": 51
        },
        {
          "output_type": "display_data",
          "data": {
            "text/plain": [
              "<Figure size 432x288 with 1 Axes>"
            ],
            "image/png": "[encoded data removed]"
          },
          "metadata": {
            "needs_background": "light"
          }
        }
      ],
      "source": [
        "# 예측값과 실제값의 시각화\n",
        "plt.scatter(y_test, stack_final)\n",
        "plt.xlabel(\"real\")\n",
        "plt.ylabel(\"predict\")\n",
        "plt.xlim(0,1.5)\n",
        "plt.ylim(0,1.5)"
      ]
    },
    {
      "cell_type": "code",
      "source": [
        "result = pd.read_csv(\"/content/statiz_Final.csv\", index_col=0)\n",
        "sample = test\n",
        "sample['y_hat'] = stack_final\n",
        "\n",
        "sample = sample[sample['시즌']==2021]\n",
        "\n",
        "new = ['이름','생일','y_hat']\n",
        "new2 = ['이름','생일','팀','시즌','포지션','OPS']\n",
        "sample = sample[new]\n",
        "\n",
        "predict = result[result['시즌']==2022] # 2018년도 데이터 프레임\n",
        "predict=predict[new2]\n",
        "\n",
        "final = pd.merge(predict, sample, on=('이름','생일'), how='inner')\n",
        "error = final['OPS'] - final['y_hat']\n",
        "print(\"오차 \",np.mean(error))\n",
        "\n",
        "mse=mean_squared_error(final['OPS'],  final['y_hat'] ,squared=False)\n",
        "rmse =  np.sqrt(mse)\n",
        "r2 =r2_score(final['OPS'], final['y_hat'])\n",
        "\n",
        "print(\"test error : \", mse)\n",
        "print(\"RMSE : \", rmse)\n",
        "print(\"r2 : \", r2)\n",
        "\n",
        "final\n"
      ],
      "metadata": {
        "colab": {
          "base_uri": "https://localhost:8080/",
          "height": 497
        },
        "id": "rGPKIvIGm4yD",
        "outputId": "1a90996b-72aa-4a52-a2f8-31a2148636ac"
      },
      "execution_count": null,
      "outputs": [
        {
          "output_type": "stream",
          "name": "stdout",
          "text": [
            "오차  -0.037937426219940194\n",
            "test error :  0.1033604090395773\n",
            "RMSE :  0.3214971369072784\n",
            "r2 :  0.2712240641944845\n"
          ]
        },
        {
          "output_type": "execute_result",
          "data": {
            "text/plain": [
              "      이름          생일  팀    시즌 포지션    OPS     y_hat\n",
              "0    이정후  1998-08-20  키  2022  CF  0.996  0.878948\n",
              "1    피렐라  1989-11-21  삼  2022  LF  0.976  0.854472\n",
              "2    나성범  1989-10-03  K  2022  RF  0.910  0.895174\n",
              "3    오지환  1990-03-12  L  2022  SS  0.827  0.773278\n",
              "4     최정  1987-02-28  S  2022  3B  0.891  0.864461\n",
              "..   ...         ... ..   ...  ..    ...       ...\n",
              "120  김성현  1987-03-09  S  2022  2B  0.570  0.673790\n",
              "121  이도윤  1996-10-07  한  2022  SS  0.461  0.580822\n",
              "122  박대온  1995-08-28  N  2022   C  0.429  0.592559\n",
              "123  박경수  1984-03-31  K  2022  2B  0.427  0.713859\n",
              "124  김헌곤  1988-11-09  삼  2022  CF  0.465  0.701846\n",
              "\n",
              "[125 rows x 7 columns]"
            ],
            "text/html": [
              "\n",
              "  <div id=\"df-bc6c157d-9081-42b9-9a35-f656f89f9b09\">\n",
              "    <div class=\"colab-df-container\">\n",
              "      <div>\n",
              "<style scoped>\n",
              "    .dataframe tbody tr th:only-of-type {\n",
              "        vertical-align: middle;\n",
              "    }\n",
              "\n",
              "    .dataframe tbody tr th {\n",
              "        vertical-align: top;\n",
              "    }\n",
              "\n",
              "    .dataframe thead th {\n",
              "        text-align: right;\n",
              "    }\n",
              "</style>\n",
              "<table border=\"1\" class=\"dataframe\">\n",
              "  <thead>\n",
              "    <tr style=\"text-align: right;\">\n",
              "      <th></th>\n",
              "      <th>이름</th>\n",
              "      <th>생일</th>\n",
              "      <th>팀</th>\n",
              "      <th>시즌</th>\n",
              "      <th>포지션</th>\n",
              "      <th>OPS</th>\n",
              "      <th>y_hat</th>\n",
              "    </tr>\n",
              "  </thead>\n",
              "  <tbody>\n",
              "    <tr>\n",
              "      <th>0</th>\n",
              "      <td>이정후</td>\n",
              "      <td>1998-08-20</td>\n",
              "      <td>키</td>\n",
              "      <td>2022</td>\n",
              "      <td>CF</td>\n",
              "      <td>0.996</td>\n",
              "      <td>0.878948</td>\n",
              "    </tr>\n",
              "    <tr>\n",
              "      <th>1</th>\n",
              "      <td>피렐라</td>\n",
              "      <td>1989-11-21</td>\n",
              "      <td>삼</td>\n",
              "      <td>2022</td>\n",
              "      <td>LF</td>\n",
              "      <td>0.976</td>\n",
              "      <td>0.854472</td>\n",
              "    </tr>\n",
              "    <tr>\n",
              "      <th>2</th>\n",
              "      <td>나성범</td>\n",
              "      <td>1989-10-03</td>\n",
              "      <td>K</td>\n",
              "      <td>2022</td>\n",
              "      <td>RF</td>\n",
              "      <td>0.910</td>\n",
              "      <td>0.895174</td>\n",
              "    </tr>\n",
              "    <tr>\n",
              "      <th>3</th>\n",
              "      <td>오지환</td>\n",
              "      <td>1990-03-12</td>\n",
              "      <td>L</td>\n",
              "      <td>2022</td>\n",
              "      <td>SS</td>\n",
              "      <td>0.827</td>\n",
              "      <td>0.773278</td>\n",
              "    </tr>\n",
              "    <tr>\n",
              "      <th>4</th>\n",
              "      <td>최정</td>\n",
              "      <td>1987-02-28</td>\n",
              "      <td>S</td>\n",
              "      <td>2022</td>\n",
              "      <td>3B</td>\n",
              "      <td>0.891</td>\n",
              "      <td>0.864461</td>\n",
              "    </tr>\n",
              "    <tr>\n",
              "      <th>...</th>\n",
              "      <td>...</td>\n",
              "      <td>...</td>\n",
              "      <td>...</td>\n",
              "      <td>...</td>\n",
              "      <td>...</td>\n",
              "      <td>...</td>\n",
              "      <td>...</td>\n",
              "    </tr>\n",
              "    <tr>\n",
              "      <th>120</th>\n",
              "      <td>김성현</td>\n",
              "      <td>1987-03-09</td>\n",
              "      <td>S</td>\n",
              "      <td>2022</td>\n",
              "      <td>2B</td>\n",
              "      <td>0.570</td>\n",
              "      <td>0.673790</td>\n",
              "    </tr>\n",
              "    <tr>\n",
              "      <th>121</th>\n",
              "      <td>이도윤</td>\n",
              "      <td>1996-10-07</td>\n",
              "      <td>한</td>\n",
              "      <td>2022</td>\n",
              "      <td>SS</td>\n",
              "      <td>0.461</td>\n",
              "      <td>0.580822</td>\n",
              "    </tr>\n",
              "    <tr>\n",
              "      <th>122</th>\n",
              "      <td>박대온</td>\n",
              "      <td>1995-08-28</td>\n",
              "      <td>N</td>\n",
              "      <td>2022</td>\n",
              "      <td>C</td>\n",
              "      <td>0.429</td>\n",
              "      <td>0.592559</td>\n",
              "    </tr>\n",
              "    <tr>\n",
              "      <th>123</th>\n",
              "      <td>박경수</td>\n",
              "      <td>1984-03-31</td>\n",
              "      <td>K</td>\n",
              "      <td>2022</td>\n",
              "      <td>2B</td>\n",
              "      <td>0.427</td>\n",
              "      <td>0.713859</td>\n",
              "    </tr>\n",
              "    <tr>\n",
              "      <th>124</th>\n",
              "      <td>김헌곤</td>\n",
              "      <td>1988-11-09</td>\n",
              "      <td>삼</td>\n",
              "      <td>2022</td>\n",
              "      <td>CF</td>\n",
              "      <td>0.465</td>\n",
              "      <td>0.701846</td>\n",
              "    </tr>\n",
              "  </tbody>\n",
              "</table>\n",
              "<p>125 rows × 7 columns</p>\n",
              "</div>\n",
              "      <button class=\"colab-df-convert\" onclick=\"convertToInteractive('df-bc6c157d-9081-42b9-9a35-f656f89f9b09')\"\n",
              "              title=\"Convert this dataframe to an interactive table.\"\n",
              "              style=\"display:none;\">\n",
              "        \n",
              "  <svg xmlns=\"http://www.w3.org/2000/svg\" height=\"24px\"viewBox=\"0 0 24 24\"\n",
              "       width=\"24px\">\n",
              "    <path d=\"M0 0h24v24H0V0z\" fill=\"none\"/>\n",
              "    <path d=\"M18.56 5.44l.94 2.06.94-2.06 2.06-.94-2.06-.94-.94-2.06-.94 2.06-2.06.94zm-11 1L8.5 8.5l.94-2.06 2.06-.94-2.06-.94L8.5 2.5l-.94 2.06-2.06.94zm10 10l.94 2.06.94-2.06 2.06-.94-2.06-.94-.94-2.06-.94 2.06-2.06.94z\"/><path d=\"M17.41 7.96l-1.37-1.37c-.4-.4-.92-.59-1.43-.59-.52 0-1.04.2-1.43.59L10.3 9.45l-7.72 7.72c-.78.78-.78 2.05 0 2.83L4 21.41c.39.39.9.59 1.41.59.51 0 1.02-.2 1.41-.59l7.78-7.78 2.81-2.81c.8-.78.8-2.07 0-2.86zM5.41 20L4 18.59l7.72-7.72 1.47 1.35L5.41 20z\"/>\n",
              "  </svg>\n",
              "      </button>\n",
              "      \n",
              "  <style>\n",
              "    .colab-df-container {\n",
              "      display:flex;\n",
              "      flex-wrap:wrap;\n",
              "      gap: 12px;\n",
              "    }\n",
              "\n",
              "    .colab-df-convert {\n",
              "      background-color: #E8F0FE;\n",
              "      border: none;\n",
              "      border-radius: 50%;\n",
              "      cursor: pointer;\n",
              "      display: none;\n",
              "      fill: #1967D2;\n",
              "      height: 32px;\n",
              "      padding: 0 0 0 0;\n",
              "      width: 32px;\n",
              "    }\n",
              "\n",
              "    .colab-df-convert:hover {\n",
              "      background-color: #E2EBFA;\n",
              "      box-shadow: 0px 1px 2px rgba(60, 64, 67, 0.3), 0px 1px 3px 1px rgba(60, 64, 67, 0.15);\n",
              "      fill: #174EA6;\n",
              "    }\n",
              "\n",
              "    [theme=dark] .colab-df-convert {\n",
              "      background-color: #3B4455;\n",
              "      fill: #D2E3FC;\n",
              "    }\n",
              "\n",
              "    [theme=dark] .colab-df-convert:hover {\n",
              "      background-color: #434B5C;\n",
              "      box-shadow: 0px 1px 3px 1px rgba(0, 0, 0, 0.15);\n",
              "      filter: drop-shadow(0px 1px 2px rgba(0, 0, 0, 0.3));\n",
              "      fill: #FFFFFF;\n",
              "    }\n",
              "  </style>\n",
              "\n",
              "      <script>\n",
              "        const buttonEl =\n",
              "          document.querySelector('#df-bc6c157d-9081-42b9-9a35-f656f89f9b09 button.colab-df-convert');\n",
              "        buttonEl.style.display =\n",
              "          google.colab.kernel.accessAllowed ? 'block' : 'none';\n",
              "\n",
              "        async function convertToInteractive(key) {\n",
              "          const element = document.querySelector('#df-bc6c157d-9081-42b9-9a35-f656f89f9b09');\n",
              "          const dataTable =\n",
              "            await google.colab.kernel.invokeFunction('convertToInteractive',\n",
              "                                                     [key], {});\n",
              "          if (!dataTable) return;\n",
              "\n",
              "          const docLinkHtml = 'Like what you see? Visit the ' +\n",
              "            '<a target=\"_blank\" href=https://colab.research.google.com/notebooks/data_table.ipynb>data table notebook</a>'\n",
              "            + ' to learn more about interactive tables.';\n",
              "          element.innerHTML = '';\n",
              "          dataTable['output_type'] = 'display_data';\n",
              "          await google.colab.output.renderOutput(dataTable, element);\n",
              "          const docLink = document.createElement('div');\n",
              "          docLink.innerHTML = docLinkHtml;\n",
              "          element.appendChild(docLink);\n",
              "        }\n",
              "      </script>\n",
              "    </div>\n",
              "  </div>\n",
              "  "
            ]
          },
          "metadata": {},
          "execution_count": 257
        }
      ]
    },
    {
      "cell_type": "code",
      "source": [
        "# 기존 모델\n",
        "# 2009 ~ 2016년 기간의 데이터로 검증 \n",
        "# 예를들어 2010년은 2009년까지의 데이터로, 2011년은 2010년까지의 데이터로 검증\n",
        "# 에러가 가장 낮은 두 모델, xgboost와 ridge 중 ridge 선택\n",
        "# ridge가 xgboost에 비해 과적합이 적고 일반화가 더 잘 이뤄졌을 것이라는 판단\n",
        "\n",
        "test_error = []\n",
        "r2 = []\n",
        "\n",
        "for year in range(1984, 2022):\n",
        "\n",
        "    train = df[df['시즌'] < year-1].reset_index(drop=True)\n",
        "    test = df[df['시즌'] == year-1].reset_index(drop=True)\n",
        "    \n",
        "    X_train = train[X_cols]\n",
        "    y_train = train[y_cols]\n",
        "\n",
        "    X_test = test[X_cols]\n",
        "    y_test = test[y_cols]\n",
        "    \n",
        "    model = model_dict['xgb']    #모델명 바꾸어 가면서 실험 가능\n",
        "  \n",
        "    model.fit( X_train, y_train )\n",
        "\n",
        "    y_predict = model.predict(X_test)\n",
        "   \n",
        "\n",
        "    test_error.append(mean_squared_error(y_test,  y_predict,squared=False) )\n",
        "    r2.append(r2_score(y_test, y_predict))\n",
        "\n",
        "    clear_output(wait=True)\n",
        "    print(year, \": 완료\")\n",
        "    \n",
        "print(\"test error : \", np.mean(test_error))\n",
        "print(\"RMSE : \", np.sqrt(np.mean(test_error)))\n",
        "print(\"r2 : \", np.mean(r2))\n",
        "print(\"완료\")\n"
      ],
      "metadata": {
        "id": "0u2WOpuxTuVv",
        "colab": {
          "base_uri": "https://localhost:8080/"
        },
        "outputId": "3f555bca-486c-4c37-8ad8-fea04ff214ce"
      },
      "execution_count": null,
      "outputs": [
        {
          "output_type": "stream",
          "name": "stdout",
          "text": [
            "2021 : 완료\n",
            "test error :  0.10944104987378832\n",
            "RMSE :  0.3308187568348994\n",
            "r2 :  0.2885854390020596\n",
            "완료\n"
          ]
        }
      ]
    },
    {
      "cell_type": "code",
      "source": [
        "# 예측값과 실제값의 시각화\n",
        "plt.scatter(y_test,y_predict )\n",
        "plt.xlabel(\"real\")\n",
        "plt.ylabel(\"predict\")\n",
        "plt.xlim(0,1.5)\n",
        "plt.ylim(0,1.5)"
      ],
      "metadata": {
        "colab": {
          "base_uri": "https://localhost:8080/",
          "height": 297
        },
        "id": "5e_SaNSxnQCZ",
        "outputId": "08bd1bbe-22b3-497b-ebda-2d6f1184b4a7"
      },
      "execution_count": null,
      "outputs": [
        {
          "output_type": "execute_result",
          "data": {
            "text/plain": [
              "(0.0, 1.5)"
            ]
          },
          "metadata": {},
          "execution_count": 259
        },
        {
          "output_type": "display_data",
          "data": {
            "text/plain": [
              "<Figure size 432x288 with 1 Axes>"
            ],
            "image/png": "[encoded data removed]"
          },
          "metadata": {
            "needs_background": "light"
          }
        }
      ]
    },
    {
      "cell_type": "code",
      "source": [
        "result = pd.read_csv(\"/content/statiz_Final.csv\", index_col=0)\n",
        "\n",
        "predict = result[result['시즌']==2022] # 2018년도 데이터 프레임\n",
        "predict = pd.concat([predict, pd.get_dummies(predict['포지션'], drop_first=True)], axis=1) # 포지션 dummy variable로 변환\n",
        "X = predict[X_cols]\n",
        "X = X.fillna(-1) # NA값 -1로 impute\n",
        "predict['y_hat'] = model.predict(X)\n",
        "new = ['이름','생일','팀','시즌','포지션','OPS','y_hat']\n",
        "predict = predict[new]\n",
        "\n",
        "\n",
        "error = predict['OPS'] - predict['y_hat']\n",
        "print(\"오차 \",np.mean(error))\n",
        "\n",
        "mse=mean_squared_error(predict['OPS'],  predict['y_hat'] ,squared=False)\n",
        "rmse =  np.sqrt(mse)\n",
        "r2 =r2_score(predict['OPS'], predict['y_hat'])\n",
        "\n",
        "print(\"test error : \", mse)\n",
        "print(\"RMSE : \", rmse)\n",
        "print(\"r2 : \", r2)\n",
        "print(\"완료\")\n",
        "predict"
      ],
      "metadata": {
        "colab": {
          "base_uri": "https://localhost:8080/",
          "height": 515
        },
        "id": "nNYRB6ELmzDO",
        "outputId": "28d9781d-ca23-4444-d4b3-f5df7ff09ef6"
      },
      "execution_count": null,
      "outputs": [
        {
          "output_type": "stream",
          "name": "stdout",
          "text": [
            "오차  -0.1234451124514303\n",
            "test error :  0.22867528942316942\n",
            "RMSE :  0.4782000516762513\n",
            "r2 :  -0.3084282772184357\n",
            "완료\n"
          ]
        },
        {
          "output_type": "execute_result",
          "data": {
            "text/plain": [
              "       이름          생일  팀    시즌 포지션    OPS     y_hat\n",
              "5053  이정후  1998-08-20  키  2022  CF  0.996  0.764675\n",
              "5055  피렐라  1989-11-21  삼  2022  LF  0.976  0.824421\n",
              "5061  나성범  1989-10-03  K  2022  RF  0.910  0.768682\n",
              "5067  오지환  1990-03-12  L  2022  SS  0.827  0.718621\n",
              "5076   최정  1987-02-28  S  2022  3B  0.891  0.764713\n",
              "...   ...         ... ..   ...  ..    ...       ...\n",
              "5777  조세진  2003-11-21  롯  2022  RF  0.416  0.700186\n",
              "5782  유로결  2000-05-30  한  2022  LF  0.333  0.699733\n",
              "5785  정보근  1999-08-31  롯  2022   C  0.466  0.777912\n",
              "5789  박경수  1984-03-31  K  2022  2B  0.427  0.733258\n",
              "5795  김헌곤  1988-11-09  삼  2022  CF  0.465  0.749439\n",
              "\n",
              "[186 rows x 7 columns]"
            ],
            "text/html": [
              "\n",
              "  <div id=\"df-faedd6ff-eb05-44be-b706-85548a5b05a9\">\n",
              "    <div class=\"colab-df-container\">\n",
              "      <div>\n",
              "<style scoped>\n",
              "    .dataframe tbody tr th:only-of-type {\n",
              "        vertical-align: middle;\n",
              "    }\n",
              "\n",
              "    .dataframe tbody tr th {\n",
              "        vertical-align: top;\n",
              "    }\n",
              "\n",
              "    .dataframe thead th {\n",
              "        text-align: right;\n",
              "    }\n",
              "</style>\n",
              "<table border=\"1\" class=\"dataframe\">\n",
              "  <thead>\n",
              "    <tr style=\"text-align: right;\">\n",
              "      <th></th>\n",
              "      <th>이름</th>\n",
              "      <th>생일</th>\n",
              "      <th>팀</th>\n",
              "      <th>시즌</th>\n",
              "      <th>포지션</th>\n",
              "      <th>OPS</th>\n",
              "      <th>y_hat</th>\n",
              "    </tr>\n",
              "  </thead>\n",
              "  <tbody>\n",
              "    <tr>\n",
              "      <th>5053</th>\n",
              "      <td>이정후</td>\n",
              "      <td>1998-08-20</td>\n",
              "      <td>키</td>\n",
              "      <td>2022</td>\n",
              "      <td>CF</td>\n",
              "      <td>0.996</td>\n",
              "      <td>0.764675</td>\n",
              "    </tr>\n",
              "    <tr>\n",
              "      <th>5055</th>\n",
              "      <td>피렐라</td>\n",
              "      <td>1989-11-21</td>\n",
              "      <td>삼</td>\n",
              "      <td>2022</td>\n",
              "      <td>LF</td>\n",
              "      <td>0.976</td>\n",
              "      <td>0.824421</td>\n",
              "    </tr>\n",
              "    <tr>\n",
              "      <th>5061</th>\n",
              "      <td>나성범</td>\n",
              "      <td>1989-10-03</td>\n",
              "      <td>K</td>\n",
              "      <td>2022</td>\n",
              "      <td>RF</td>\n",
              "      <td>0.910</td>\n",
              "      <td>0.768682</td>\n",
              "    </tr>\n",
              "    <tr>\n",
              "      <th>5067</th>\n",
              "      <td>오지환</td>\n",
              "      <td>1990-03-12</td>\n",
              "      <td>L</td>\n",
              "      <td>2022</td>\n",
              "      <td>SS</td>\n",
              "      <td>0.827</td>\n",
              "      <td>0.718621</td>\n",
              "    </tr>\n",
              "    <tr>\n",
              "      <th>5076</th>\n",
              "      <td>최정</td>\n",
              "      <td>1987-02-28</td>\n",
              "      <td>S</td>\n",
              "      <td>2022</td>\n",
              "      <td>3B</td>\n",
              "      <td>0.891</td>\n",
              "      <td>0.764713</td>\n",
              "    </tr>\n",
              "    <tr>\n",
              "      <th>...</th>\n",
              "      <td>...</td>\n",
              "      <td>...</td>\n",
              "      <td>...</td>\n",
              "      <td>...</td>\n",
              "      <td>...</td>\n",
              "      <td>...</td>\n",
              "      <td>...</td>\n",
              "    </tr>\n",
              "    <tr>\n",
              "      <th>5777</th>\n",
              "      <td>조세진</td>\n",
              "      <td>2003-11-21</td>\n",
              "      <td>롯</td>\n",
              "      <td>2022</td>\n",
              "      <td>RF</td>\n",
              "      <td>0.416</td>\n",
              "      <td>0.700186</td>\n",
              "    </tr>\n",
              "    <tr>\n",
              "      <th>5782</th>\n",
              "      <td>유로결</td>\n",
              "      <td>2000-05-30</td>\n",
              "      <td>한</td>\n",
              "      <td>2022</td>\n",
              "      <td>LF</td>\n",
              "      <td>0.333</td>\n",
              "      <td>0.699733</td>\n",
              "    </tr>\n",
              "    <tr>\n",
              "      <th>5785</th>\n",
              "      <td>정보근</td>\n",
              "      <td>1999-08-31</td>\n",
              "      <td>롯</td>\n",
              "      <td>2022</td>\n",
              "      <td>C</td>\n",
              "      <td>0.466</td>\n",
              "      <td>0.777912</td>\n",
              "    </tr>\n",
              "    <tr>\n",
              "      <th>5789</th>\n",
              "      <td>박경수</td>\n",
              "      <td>1984-03-31</td>\n",
              "      <td>K</td>\n",
              "      <td>2022</td>\n",
              "      <td>2B</td>\n",
              "      <td>0.427</td>\n",
              "      <td>0.733258</td>\n",
              "    </tr>\n",
              "    <tr>\n",
              "      <th>5795</th>\n",
              "      <td>김헌곤</td>\n",
              "      <td>1988-11-09</td>\n",
              "      <td>삼</td>\n",
              "      <td>2022</td>\n",
              "      <td>CF</td>\n",
              "      <td>0.465</td>\n",
              "      <td>0.749439</td>\n",
              "    </tr>\n",
              "  </tbody>\n",
              "</table>\n",
              "<p>186 rows × 7 columns</p>\n",
              "</div>\n",
              "      <button class=\"colab-df-convert\" onclick=\"convertToInteractive('df-faedd6ff-eb05-44be-b706-85548a5b05a9')\"\n",
              "              title=\"Convert this dataframe to an interactive table.\"\n",
              "              style=\"display:none;\">\n",
              "        \n",
              "  <svg xmlns=\"http://www.w3.org/2000/svg\" height=\"24px\"viewBox=\"0 0 24 24\"\n",
              "       width=\"24px\">\n",
              "    <path d=\"M0 0h24v24H0V0z\" fill=\"none\"/>\n",
              "    <path d=\"M18.56 5.44l.94 2.06.94-2.06 2.06-.94-2.06-.94-.94-2.06-.94 2.06-2.06.94zm-11 1L8.5 8.5l.94-2.06 2.06-.94-2.06-.94L8.5 2.5l-.94 2.06-2.06.94zm10 10l.94 2.06.94-2.06 2.06-.94-2.06-.94-.94-2.06-.94 2.06-2.06.94z\"/><path d=\"M17.41 7.96l-1.37-1.37c-.4-.4-.92-.59-1.43-.59-.52 0-1.04.2-1.43.59L10.3 9.45l-7.72 7.72c-.78.78-.78 2.05 0 2.83L4 21.41c.39.39.9.59 1.41.59.51 0 1.02-.2 1.41-.59l7.78-7.78 2.81-2.81c.8-.78.8-2.07 0-2.86zM5.41 20L4 18.59l7.72-7.72 1.47 1.35L5.41 20z\"/>\n",
              "  </svg>\n",
              "      </button>\n",
              "      \n",
              "  <style>\n",
              "    .colab-df-container {\n",
              "      display:flex;\n",
              "      flex-wrap:wrap;\n",
              "      gap: 12px;\n",
              "    }\n",
              "\n",
              "    .colab-df-convert {\n",
              "      background-color: #E8F0FE;\n",
              "      border: none;\n",
              "      border-radius: 50%;\n",
              "      cursor: pointer;\n",
              "      display: none;\n",
              "      fill: #1967D2;\n",
              "      height: 32px;\n",
              "      padding: 0 0 0 0;\n",
              "      width: 32px;\n",
              "    }\n",
              "\n",
              "    .colab-df-convert:hover {\n",
              "      background-color: #E2EBFA;\n",
              "      box-shadow: 0px 1px 2px rgba(60, 64, 67, 0.3), 0px 1px 3px 1px rgba(60, 64, 67, 0.15);\n",
              "      fill: #174EA6;\n",
              "    }\n",
              "\n",
              "    [theme=dark] .colab-df-convert {\n",
              "      background-color: #3B4455;\n",
              "      fill: #D2E3FC;\n",
              "    }\n",
              "\n",
              "    [theme=dark] .colab-df-convert:hover {\n",
              "      background-color: #434B5C;\n",
              "      box-shadow: 0px 1px 3px 1px rgba(0, 0, 0, 0.15);\n",
              "      filter: drop-shadow(0px 1px 2px rgba(0, 0, 0, 0.3));\n",
              "      fill: #FFFFFF;\n",
              "    }\n",
              "  </style>\n",
              "\n",
              "      <script>\n",
              "        const buttonEl =\n",
              "          document.querySelector('#df-faedd6ff-eb05-44be-b706-85548a5b05a9 button.colab-df-convert');\n",
              "        buttonEl.style.display =\n",
              "          google.colab.kernel.accessAllowed ? 'block' : 'none';\n",
              "\n",
              "        async function convertToInteractive(key) {\n",
              "          const element = document.querySelector('#df-faedd6ff-eb05-44be-b706-85548a5b05a9');\n",
              "          const dataTable =\n",
              "            await google.colab.kernel.invokeFunction('convertToInteractive',\n",
              "                                                     [key], {});\n",
              "          if (!dataTable) return;\n",
              "\n",
              "          const docLinkHtml = 'Like what you see? Visit the ' +\n",
              "            '<a target=\"_blank\" href=https://colab.research.google.com/notebooks/data_table.ipynb>data table notebook</a>'\n",
              "            + ' to learn more about interactive tables.';\n",
              "          element.innerHTML = '';\n",
              "          dataTable['output_type'] = 'display_data';\n",
              "          await google.colab.output.renderOutput(dataTable, element);\n",
              "          const docLink = document.createElement('div');\n",
              "          docLink.innerHTML = docLinkHtml;\n",
              "          element.appendChild(docLink);\n",
              "        }\n",
              "      </script>\n",
              "    </div>\n",
              "  </div>\n",
              "  "
            ]
          },
          "metadata": {},
          "execution_count": 260
        }
      ]
    }
  ],
  "metadata": {
    "colab": {
      "provenance": [],
      "authorship_tag": "ABX9TyOdsYBvitYSzG+operDUM/l",
      "include_colab_link": true
    },
    "kernelspec": {
      "display_name": "Python 3",
      "name": "python3"
    },
    "language_info": {
      "name": "python"
    }
  },
  "nbformat": 4,
  "nbformat_minor": 0
}