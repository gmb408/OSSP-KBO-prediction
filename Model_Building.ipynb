{
  "cells": [
    {
      "cell_type": "markdown",
      "metadata": {
        "id": "view-in-github",
        "colab_type": "text"
      },
      "source": [
        "<a href=\"https://colab.research.google.com/github/gmb408/OSSP-KBO-prediction/blob/main/Model_Building.ipynb\" target=\"_parent\"><img src=\"https://colab.research.google.com/assets/colab-badge.svg\" alt=\"Open In Colab\"/></a>"
      ]
    },
    {
      "cell_type": "code",
      "execution_count": null,
      "metadata": {
        "id": "1B9YyAjxvw_N"
      },
      "outputs": [],
      "source": [
        "# 데이터 분석 모듈\n",
        "import pandas as pd\n",
        "import numpy as np\n",
        "import matplotlib.pyplot as plt\n",
        "import seaborn as sns\n",
        "import time\n",
        "from datetime import datetime"
      ]
    },
    {
      "cell_type": "code",
      "execution_count": null,
      "metadata": {
        "id": "MrGuWZxjunMP"
      },
      "outputs": [],
      "source": [
        "# 출력 할 때 마다, 기존 출력물들은 제거해주는 모듈\n",
        "from IPython.display import clear_output"
      ]
    },
    {
      "cell_type": "code",
      "execution_count": null,
      "metadata": {
        "id": "5xaGNWvDu6XA"
      },
      "outputs": [],
      "source": [
        "# 모델 모듈\n",
        "from xgboost import XGBRegressor, plot_importance\n",
        "from lightgbm import LGBMRegressor\n",
        "from sklearn.ensemble import RandomForestRegressor\n",
        "from sklearn.svm import SVR\n",
        "from sklearn.linear_model import Ridge, Lasso, LinearRegression, ElasticNet\n",
        "from sklearn.neighbors import KNeighborsRegressor\n",
        "\n",
        "from sklearn.metrics import mean_squared_error, r2_score\n",
        "from sklearn.preprocessing import StandardScaler, MinMaxScaler"
      ]
    },
    {
      "cell_type": "code",
      "execution_count": null,
      "metadata": {
        "id": "OKt-yz7Uu-kB"
      },
      "outputs": [],
      "source": [
        "submission = pd.read_csv(\"/content/submission.csv\")\n",
        "result = pd.read_csv(\"/content/statiz_v2.csv\", index_col=0)\n",
        "reg = pd.read_csv(\"/content/Regular_Season_Batter.csv\")\n"
      ]
    },
    {
      "cell_type": "code",
      "execution_count": null,
      "metadata": {
        "id": "1gHqG91Eu-mw"
      },
      "outputs": [],
      "source": [
        "df = result.fillna(-1) # nan값 -1로 impute \n",
        "df = df[df['OPS_NEXT'] > 0] # 다음 해의 OPS가 존재하는 값들만 추출 (다음 해 OPS 가 없다면, predict 값과 target값을 비교 할 수 없기 때문)"
      ]
    },
    {
      "cell_type": "code",
      "execution_count": null,
      "metadata": {
        "id": "gHBDY7VNu-pk"
      },
      "outputs": [],
      "source": [
        "df = pd.concat([df, pd.get_dummies(df['포지션'], drop_first=True)], axis=1) # 포지션 dummy variable로 변환"
      ]
    },
    {
      "cell_type": "code",
      "execution_count": null,
      "metadata": {
        "id": "y7FbMR4fu-sV"
      },
      "outputs": [],
      "source": [
        "# 사용 features 명시\n",
        "infos = ['ID','이름','생일','팀','시즌','포지션','나이']\n",
        "stats = ['G','타수','득점','안타','1타','2타','3타','홈런','루타','타점','도루','도실','볼넷','사구','고4','삼진'\\\n",
        "        ,'병살','희타','희비','타율','출루','장타','OPS']"
      ]
    },
    {
      "cell_type": "code",
      "execution_count": null,
      "metadata": {
        "id": "1GtICqkWu-u5"
      },
      "outputs": [],
      "source": [
        "# 누적 및 lag stat features 이름\n",
        "stats_cum = [i + '_누적' for i in stats]\n",
        "stats_lag1 = [i + '_LAG1' for i in stats]\n",
        "stats_lag2 = [i + '_LAG2' for i in stats]\n",
        "stats_lag3 = [i + '_LAG3' for i in stats]"
      ]
    },
    {
      "cell_type": "code",
      "execution_count": null,
      "metadata": {
        "id": "kXYhHChEu-xj"
      },
      "outputs": [],
      "source": [
        "# X features와 y feature 정리\n",
        "stats_position = ['2B', '3B', 'C', 'CF', 'DH', 'LF', 'RF', 'SS']\n",
        "X_cols = stats + stats_cum + stats_lag1 + stats_lag2 + stats_position + ['나이']\n",
        "y_cols = ['OPS_NEXT']"
      ]
    },
    {
      "cell_type": "code",
      "execution_count": null,
      "metadata": {
        "id": "VWgoOWOmu-0W"
      },
      "outputs": [],
      "source": [
        "# 학습시킬 모델\n",
        "model_dict = {'xgb':XGBRegressor(n_estimators=110, learning_rate=0.05 ,max_depth=3, min_samples_split=400, random_state=23),\n",
        "              'lgbm':LGBMRegressor(),\n",
        "              'rf':RandomForestRegressor(),\n",
        "              'svr':SVR(),\n",
        "              'knn':KNeighborsRegressor(),\n",
        "              'reg':LinearRegression(),\n",
        "              'ridge':Ridge(),\n",
        "              }\n"
      ]
    },
    {
      "cell_type": "code",
      "execution_count": 24,
      "metadata": {
        "colab": {
          "base_uri": "https://localhost:8080/"
        },
        "id": "5j2EJblSvabP",
        "outputId": "52610d3e-6eea-4b4a-f765-d68e4a0d08d0"
      },
      "outputs": [
        {
          "output_type": "stream",
          "name": "stdout",
          "text": [
            "2017 : 완료\n",
            "test error :  0.09317748161481834\n",
            "RMSE :  0.0151709850562135\n",
            "r2 :  nan\n",
            "완료\n"
          ]
        },
        {
          "output_type": "stream",
          "name": "stderr",
          "text": [
            "/usr/local/lib/python3.8/dist-packages/numpy/core/fromnumeric.py:3440: RuntimeWarning: Mean of empty slice.\n",
            "  return _methods._mean(a, axis=axis, dtype=dtype,\n",
            "/usr/local/lib/python3.8/dist-packages/numpy/core/_methods.py:189: RuntimeWarning: invalid value encountered in double_scalars\n",
            "  ret = ret.dtype.type(ret / rcount)\n"
          ]
        }
      ],
      "source": [
        "# 2009 ~ 2016년 기간의 데이터로 검증\n",
        "# 예를들어 2010년은 2009년까지의 데이터로, 2011년은 2010년까지의 데이터로 검증\n",
        "# 에러가 가장 낮은 두 모델, xgboost와 ridge 중 ridge 선택\n",
        "# ridge가 xgboost에 비해 과적합이 적고 일반화가 더 잘 이뤄졌을 것이라는 판단\n",
        "from sklearn.ensemble import GradientBoostingRegressor\n",
        "test_error = []\n",
        "r2 = []\n",
        "\n",
        "\n",
        "\n",
        "for year in range(2010, 2018):\n",
        "\n",
        "    train = df[df['시즌'] < year-1].reset_index(drop=True)\n",
        "    test = df[df['시즌'] == year-1].reset_index(drop=True)\n",
        "    \n",
        "    X_train = train[X_cols]\n",
        "    y_train = train[y_cols]\n",
        "\n",
        "    X_test = test[X_cols]\n",
        "    y_test = test[y_cols]\n",
        "    \n",
        "    model = model_dict['xgb']    #모델명 바꾸어 가면서 실험 가능\n",
        "    weight = train['타수']\n",
        "    model.fit(X_train, y_train, sample_weight=weight)\n",
        "    y_predict = model.predict(X_test)\n",
        "    test_error.append(mean_squared_error(y_test, y_predict, sample_weight=X_test['타수']) ** 0.5)\n",
        "\n",
        "    clear_output(wait=True)\n",
        "    print(year, \": 완료\")\n",
        "    \n",
        "    \n",
        "print(\"test error : \", np.mean(test_error))\n",
        "print(\"RMSE : \", np.std(test_error))\n",
        "print(\"r2 : \", np.mean(r2))\n",
        "print(\"완료\")"
      ]
    },
    {
      "cell_type": "code",
      "source": [],
      "metadata": {
        "id": "YBwctAsv-NuM"
      },
      "execution_count": null,
      "outputs": []
    },
    {
      "cell_type": "code",
      "execution_count": null,
      "metadata": {
        "colab": {
          "base_uri": "https://localhost:8080/"
        },
        "id": "ZuW_ddZgvaew",
        "outputId": "d394c9b5-68c4-4728-bef7-ac03ed2a12ab"
      },
      "outputs": [
        {
          "data": {
            "text/plain": [
              "[0.10757709252958779,\n",
              " 0.10825258644669822,\n",
              " 0.13549001735235355,\n",
              " 0.10875175073894792,\n",
              " 0.11746390204987826,\n",
              " 0.12314584990259564,\n",
              " 0.12015757975758846,\n",
              " 0.11385251922502354,\n",
              " 0.11951991178002243,\n",
              " 0.13566793547136838,\n",
              " 0.11711369335063046,\n",
              " 0.1007524868051699,\n",
              " 0.10823091476936884,\n",
              " 0.11525585497954177,\n",
              " 0.157533833217977,\n",
              " 0.12301107292149403,\n",
              " 0.14350463145598516,\n",
              " 0.12245968793958166,\n",
              " 0.11795731676480589]"
            ]
          },
          "execution_count": 101,
          "metadata": {},
          "output_type": "execute_result"
        }
      ],
      "source": [
        "# 연도별 테스트 에러\n",
        "test_error"
      ]
    },
    {
      "cell_type": "code",
      "execution_count": null,
      "metadata": {
        "colab": {
          "base_uri": "https://localhost:8080/",
          "height": 646
        },
        "id": "Dipo3D29vaht",
        "outputId": "20759c3d-8df8-43bb-9ade-ff90f6a5cdce"
      },
      "outputs": [
        {
          "data": {
            "text/plain": [
              "(0.0, 1.5)"
            ]
          },
          "execution_count": 102,
          "metadata": {},
          "output_type": "execute_result"
        },
        {
          "name": "stderr",
          "output_type": "stream",
          "text": [
            "/usr/local/lib/python3.8/dist-packages/matplotlib/backends/backend_agg.py:214: RuntimeWarning: Glyph 49892 missing from current font.\n",
            "  font.set_text(s, 0.0, flags=flags)\n",
            "/usr/local/lib/python3.8/dist-packages/matplotlib/backends/backend_agg.py:214: RuntimeWarning: Glyph 51228 missing from current font.\n",
            "  font.set_text(s, 0.0, flags=flags)\n",
            "/usr/local/lib/python3.8/dist-packages/matplotlib/backends/backend_agg.py:214: RuntimeWarning: Glyph 44050 missing from current font.\n",
            "  font.set_text(s, 0.0, flags=flags)\n",
            "/usr/local/lib/python3.8/dist-packages/matplotlib/backends/backend_agg.py:183: RuntimeWarning: Glyph 49892 missing from current font.\n",
            "  font.set_text(s, 0, flags=flags)\n",
            "/usr/local/lib/python3.8/dist-packages/matplotlib/backends/backend_agg.py:183: RuntimeWarning: Glyph 51228 missing from current font.\n",
            "  font.set_text(s, 0, flags=flags)\n",
            "/usr/local/lib/python3.8/dist-packages/matplotlib/backends/backend_agg.py:183: RuntimeWarning: Glyph 44050 missing from current font.\n",
            "  font.set_text(s, 0, flags=flags)\n",
            "/usr/local/lib/python3.8/dist-packages/matplotlib/backends/backend_agg.py:214: RuntimeWarning: Glyph 50696 missing from current font.\n",
            "  font.set_text(s, 0.0, flags=flags)\n",
            "/usr/local/lib/python3.8/dist-packages/matplotlib/backends/backend_agg.py:214: RuntimeWarning: Glyph 52769 missing from current font.\n",
            "  font.set_text(s, 0.0, flags=flags)\n",
            "/usr/local/lib/python3.8/dist-packages/matplotlib/backends/backend_agg.py:183: RuntimeWarning: Glyph 50696 missing from current font.\n",
            "  font.set_text(s, 0, flags=flags)\n",
            "/usr/local/lib/python3.8/dist-packages/matplotlib/backends/backend_agg.py:183: RuntimeWarning: Glyph 52769 missing from current font.\n",
            "  font.set_text(s, 0, flags=flags)\n"
          ]
        },
        {
          "data": {
            "image/png": "[encoded data removed]",
            "text/plain": [
              "<Figure size 432x288 with 1 Axes>"
            ]
          },
          "metadata": {},
          "output_type": "display_data"
        }
      ],
      "source": [
        "# 예측값과 실제값의 시각화\n",
        "plt.scatter(y_test, y_predict)\n",
        "plt.xlabel(\"실제 값\")\n",
        "plt.ylabel(\"예측 값\")\n",
        "plt.xlim(0,1.5)\n",
        "plt.ylim(0,1.5)"
      ]
    },
    {
      "cell_type": "code",
      "execution_count": null,
      "metadata": {
        "id": "9ayj74eavfF3"
      },
      "outputs": [],
      "source": [
        "predict = result[result['시즌']==2018] # 2018년도 데이터 프레임\n",
        "predict = pd.concat([predict, pd.get_dummies(predict['포지션'], drop_first=True)], axis=1) # 포지션 dummy variable로 변환"
      ]
    },
    {
      "cell_type": "code",
      "execution_count": null,
      "metadata": {
        "id": "klHvavgXvfIg"
      },
      "outputs": [],
      "source": [
        "# Dacon regular season과 submission 병합\n",
        "# 추후 statiz data와 병합할 때 기준이 되는 생일 데이터를 얻기 위함\n",
        "reg_sub = pd.merge(submission, reg[reg['year']==2018], on='batter_id', how='left', suffixes=['','_reg'])"
      ]
    },
    {
      "cell_type": "code",
      "execution_count": null,
      "metadata": {
        "id": "TU50-OAMvfK2"
      },
      "outputs": [],
      "source": [
        "\n",
        "# regular season dataframe의 생일 데이터를 statiz와 일치시킴\n",
        "reg_sub['year_born'] = reg_sub['year_born'].apply(lambda x: datetime.strptime(x, \"%Y년 %m월 %d일\").date())\n",
        "reg_sub['year_born'] = reg_sub['year_born'].astype(str)"
      ]
    },
    {
      "cell_type": "code",
      "execution_count": null,
      "metadata": {
        "id": "dG9GYU85vfNS"
      },
      "outputs": [],
      "source": [
        "# 필요한 feature만 남김\n",
        "reg_sub = reg_sub[['batter_name', 'year_born', 'batter_id']]"
      ]
    },
    {
      "cell_type": "code",
      "execution_count": null,
      "metadata": {
        "id": "_NjZkt9bvfP2"
      },
      "outputs": [],
      "source": [
        "# 이름과 생일을 기준으로 dacon data와 statiz data 병합\n",
        "total = pd.merge(reg_sub, predict, how='left', left_on=['batter_name', 'year_born'], right_on=['이름', '생일'])\n"
      ]
    },
    {
      "cell_type": "code",
      "execution_count": null,
      "metadata": {
        "id": "QRAla6SwvfSS"
      },
      "outputs": [],
      "source": [
        "X = total[X_cols] # 사용 feature\n",
        "X = X.fillna(-1) # NA값 -1로 impute"
      ]
    },
    {
      "cell_type": "code",
      "execution_count": null,
      "metadata": {
        "id": "dOzTic4XvfWI"
      },
      "outputs": [],
      "source": [
        "# 예측\n",
        "total['y_hat'] = model.predict(X)\n",
        "total['dddd'] = model.predict(X)"
      ]
    },
    {
      "cell_type": "code",
      "execution_count": null,
      "metadata": {
        "id": "m9QYPONgvlNP"
      },
      "outputs": [],
      "source": [
        "# 타자별 예측값 feature에 저장\n",
        "submission['batter_ops'] = submission['batter_id'].apply(lambda x: total[total['batter_id']==x]['y_hat'].values[0])"
      ]
    },
    {
      "cell_type": "code",
      "execution_count": null,
      "metadata": {
        "id": "SLmud4NvvlPy"
      },
      "outputs": [],
      "source": [
        "# 제출 파일 생성\n",
        "submission.to_csv(\"/content/tnt_submission.csv\", index=False, encoding='utf-8')"
      ]
    },
    {
      "cell_type": "code",
      "execution_count": null,
      "metadata": {
        "colab": {
          "base_uri": "https://localhost:8080/",
          "height": 424
        },
        "id": "I8slAhGTvlSS",
        "outputId": "f9d7f89f-178d-4332-8f42-5132dac9d551"
      },
      "outputs": [
        {
          "data": {
            "text/html": [
              "\n",
              "  <div id=\"df-0622dc3f-8bf7-4874-9a15-a064a18ad4b2\">\n",
              "    <div class=\"colab-df-container\">\n",
              "      <div>\n",
              "<style scoped>\n",
              "    .dataframe tbody tr th:only-of-type {\n",
              "        vertical-align: middle;\n",
              "    }\n",
              "\n",
              "    .dataframe tbody tr th {\n",
              "        vertical-align: top;\n",
              "    }\n",
              "\n",
              "    .dataframe thead th {\n",
              "        text-align: right;\n",
              "    }\n",
              "</style>\n",
              "<table border=\"1\" class=\"dataframe\">\n",
              "  <thead>\n",
              "    <tr style=\"text-align: right;\">\n",
              "      <th></th>\n",
              "      <th>batter_id</th>\n",
              "      <th>batter_name</th>\n",
              "      <th>batter_ops</th>\n",
              "    </tr>\n",
              "  </thead>\n",
              "  <tbody>\n",
              "    <tr>\n",
              "      <th>0</th>\n",
              "      <td>1</td>\n",
              "      <td>강경학</td>\n",
              "      <td>0.672230</td>\n",
              "    </tr>\n",
              "    <tr>\n",
              "      <th>1</th>\n",
              "      <td>2</td>\n",
              "      <td>강구성</td>\n",
              "      <td>0.576039</td>\n",
              "    </tr>\n",
              "    <tr>\n",
              "      <th>2</th>\n",
              "      <td>3</td>\n",
              "      <td>강민국</td>\n",
              "      <td>0.576039</td>\n",
              "    </tr>\n",
              "    <tr>\n",
              "      <th>3</th>\n",
              "      <td>4</td>\n",
              "      <td>강민호</td>\n",
              "      <td>0.825121</td>\n",
              "    </tr>\n",
              "    <tr>\n",
              "      <th>4</th>\n",
              "      <td>5</td>\n",
              "      <td>강백호</td>\n",
              "      <td>0.857942</td>\n",
              "    </tr>\n",
              "    <tr>\n",
              "      <th>...</th>\n",
              "      <td>...</td>\n",
              "      <td>...</td>\n",
              "      <td>...</td>\n",
              "    </tr>\n",
              "    <tr>\n",
              "      <th>215</th>\n",
              "      <td>337</td>\n",
              "      <td>홍재호</td>\n",
              "      <td>0.591734</td>\n",
              "    </tr>\n",
              "    <tr>\n",
              "      <th>216</th>\n",
              "      <td>338</td>\n",
              "      <td>홍창기</td>\n",
              "      <td>0.585204</td>\n",
              "    </tr>\n",
              "    <tr>\n",
              "      <th>217</th>\n",
              "      <td>341</td>\n",
              "      <td>황윤호</td>\n",
              "      <td>0.549729</td>\n",
              "    </tr>\n",
              "    <tr>\n",
              "      <th>218</th>\n",
              "      <td>342</td>\n",
              "      <td>황재균</td>\n",
              "      <td>0.853627</td>\n",
              "    </tr>\n",
              "    <tr>\n",
              "      <th>219</th>\n",
              "      <td>344</td>\n",
              "      <td>황진수</td>\n",
              "      <td>0.598202</td>\n",
              "    </tr>\n",
              "  </tbody>\n",
              "</table>\n",
              "<p>220 rows × 3 columns</p>\n",
              "</div>\n",
              "      <button class=\"colab-df-convert\" onclick=\"convertToInteractive('df-0622dc3f-8bf7-4874-9a15-a064a18ad4b2')\"\n",
              "              title=\"Convert this dataframe to an interactive table.\"\n",
              "              style=\"display:none;\">\n",
              "        \n",
              "  <svg xmlns=\"http://www.w3.org/2000/svg\" height=\"24px\"viewBox=\"0 0 24 24\"\n",
              "       width=\"24px\">\n",
              "    <path d=\"M0 0h24v24H0V0z\" fill=\"none\"/>\n",
              "    <path d=\"M18.56 5.44l.94 2.06.94-2.06 2.06-.94-2.06-.94-.94-2.06-.94 2.06-2.06.94zm-11 1L8.5 8.5l.94-2.06 2.06-.94-2.06-.94L8.5 2.5l-.94 2.06-2.06.94zm10 10l.94 2.06.94-2.06 2.06-.94-2.06-.94-.94-2.06-.94 2.06-2.06.94z\"/><path d=\"M17.41 7.96l-1.37-1.37c-.4-.4-.92-.59-1.43-.59-.52 0-1.04.2-1.43.59L10.3 9.45l-7.72 7.72c-.78.78-.78 2.05 0 2.83L4 21.41c.39.39.9.59 1.41.59.51 0 1.02-.2 1.41-.59l7.78-7.78 2.81-2.81c.8-.78.8-2.07 0-2.86zM5.41 20L4 18.59l7.72-7.72 1.47 1.35L5.41 20z\"/>\n",
              "  </svg>\n",
              "      </button>\n",
              "      \n",
              "  <style>\n",
              "    .colab-df-container {\n",
              "      display:flex;\n",
              "      flex-wrap:wrap;\n",
              "      gap: 12px;\n",
              "    }\n",
              "\n",
              "    .colab-df-convert {\n",
              "      background-color: #E8F0FE;\n",
              "      border: none;\n",
              "      border-radius: 50%;\n",
              "      cursor: pointer;\n",
              "      display: none;\n",
              "      fill: #1967D2;\n",
              "      height: 32px;\n",
              "      padding: 0 0 0 0;\n",
              "      width: 32px;\n",
              "    }\n",
              "\n",
              "    .colab-df-convert:hover {\n",
              "      background-color: #E2EBFA;\n",
              "      box-shadow: 0px 1px 2px rgba(60, 64, 67, 0.3), 0px 1px 3px 1px rgba(60, 64, 67, 0.15);\n",
              "      fill: #174EA6;\n",
              "    }\n",
              "\n",
              "    [theme=dark] .colab-df-convert {\n",
              "      background-color: #3B4455;\n",
              "      fill: #D2E3FC;\n",
              "    }\n",
              "\n",
              "    [theme=dark] .colab-df-convert:hover {\n",
              "      background-color: #434B5C;\n",
              "      box-shadow: 0px 1px 3px 1px rgba(0, 0, 0, 0.15);\n",
              "      filter: drop-shadow(0px 1px 2px rgba(0, 0, 0, 0.3));\n",
              "      fill: #FFFFFF;\n",
              "    }\n",
              "  </style>\n",
              "\n",
              "      <script>\n",
              "        const buttonEl =\n",
              "          document.querySelector('#df-0622dc3f-8bf7-4874-9a15-a064a18ad4b2 button.colab-df-convert');\n",
              "        buttonEl.style.display =\n",
              "          google.colab.kernel.accessAllowed ? 'block' : 'none';\n",
              "\n",
              "        async function convertToInteractive(key) {\n",
              "          const element = document.querySelector('#df-0622dc3f-8bf7-4874-9a15-a064a18ad4b2');\n",
              "          const dataTable =\n",
              "            await google.colab.kernel.invokeFunction('convertToInteractive',\n",
              "                                                     [key], {});\n",
              "          if (!dataTable) return;\n",
              "\n",
              "          const docLinkHtml = 'Like what you see? Visit the ' +\n",
              "            '<a target=\"_blank\" href=https://colab.research.google.com/notebooks/data_table.ipynb>data table notebook</a>'\n",
              "            + ' to learn more about interactive tables.';\n",
              "          element.innerHTML = '';\n",
              "          dataTable['output_type'] = 'display_data';\n",
              "          await google.colab.output.renderOutput(dataTable, element);\n",
              "          const docLink = document.createElement('div');\n",
              "          docLink.innerHTML = docLinkHtml;\n",
              "          element.appendChild(docLink);\n",
              "        }\n",
              "      </script>\n",
              "    </div>\n",
              "  </div>\n",
              "  "
            ],
            "text/plain": [
              "     batter_id batter_name  batter_ops\n",
              "0            1         강경학    0.672230\n",
              "1            2         강구성    0.576039\n",
              "2            3         강민국    0.576039\n",
              "3            4         강민호    0.825121\n",
              "4            5         강백호    0.857942\n",
              "..         ...         ...         ...\n",
              "215        337         홍재호    0.591734\n",
              "216        338         홍창기    0.585204\n",
              "217        341         황윤호    0.549729\n",
              "218        342         황재균    0.853627\n",
              "219        344         황진수    0.598202\n",
              "\n",
              "[220 rows x 3 columns]"
            ]
          },
          "execution_count": 99,
          "metadata": {},
          "output_type": "execute_result"
        }
      ],
      "source": [
        "\n",
        "# 제출 결과 확인\n",
        "sub = pd.read_csv('/content/tnt_submission.csv')\n",
        "sub"
      ]
    }
  ],
  "metadata": {
    "colab": {
      "provenance": [],
      "authorship_tag": "ABX9TyP/1LBpS64rNv4Szjtshc+W",
      "include_colab_link": true
    },
    "kernelspec": {
      "display_name": "Python 3",
      "name": "python3"
    },
    "language_info": {
      "name": "python"
    }
  },
  "nbformat": 4,
  "nbformat_minor": 0
}