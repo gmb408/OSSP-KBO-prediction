{
  "nbformat": 4,
  "nbformat_minor": 0,
  "metadata": {
    "colab": {
      "provenance": [],
      "authorship_tag": "ABX9TyNgwJpIJs4I9Gp/H+7eH7cr",
      "include_colab_link": true
    },
    "kernelspec": {
      "name": "python3",
      "display_name": "Python 3"
    },
    "language_info": {
      "name": "python"
    }
  },
  "cells": [
    {
      "cell_type": "markdown",
      "metadata": {
        "id": "view-in-github",
        "colab_type": "text"
      },
      "source": [
        "<a href=\"https://colab.research.google.com/github/gmb408/OSSP-KBO-prediction/blob/main/20184444_%EA%B3%BC%EC%A0%9C2.ipynb\" target=\"_parent\"><img src=\"https://colab.research.google.com/assets/colab-badge.svg\" alt=\"Open In Colab\"/></a>"
      ]
    },
    {
      "cell_type": "code",
      "execution_count": 31,
      "metadata": {
        "id": "caXsAM0KTvjs",
        "colab": {
          "base_uri": "https://localhost:8080/"
        },
        "outputId": "ee0611e1-7e1a-4d59-e3d9-d9ea0b109d3f"
      },
      "outputs": [
        {
          "output_type": "stream",
          "name": "stdout",
          "text": [
            "Mounted at /content/gdrive\n"
          ]
        }
      ],
      "source": [
        "import pandas as pd\n",
        "from google.colab import drive\n",
        "import numpy as np\n",
        "import matplotlib.pyplot as plt\n",
        "\n",
        "drive.mount('/content/gdrive', force_remount=True)\n",
        "df_train = pd.read_csv('/content/gdrive/My Drive/CSV/train.csv')"
      ]
    },
    {
      "cell_type": "code",
      "source": [
        "# Input Feature는 4개만 활용함\n",
        "x_train = np.zeros([len(df_train), 7])\n",
        "y_train = df_train[\"Survived\"]\n",
        "print(x_train.shape, y_train.shape)"
      ],
      "metadata": {
        "id": "nEJ2bXhKUOVK",
        "colab": {
          "base_uri": "https://localhost:8080/"
        },
        "outputId": "2519240e-f819-4c4c-fc92-5d3f6a67900b"
      },
      "execution_count": 32,
      "outputs": [
        {
          "output_type": "stream",
          "name": "stdout",
          "text": [
            "(891, 7) (891,)\n"
          ]
        }
      ]
    },
    {
      "cell_type": "code",
      "source": [
        "# Sex\n",
        "x_train[:, 0] = df_train[\"Sex\"].map( {\"male\": 0, \"female\": 1} ).astype(float)\n",
        "# Pclass\n",
        "x_train[:, 1] = df_train[\"Pclass\"].map( {3: 0, 2: 1, 1: 2} ).astype(float)\n",
        "# Fare\n",
        "x_train[:, 2] = (df_train[\"Fare\"] - df_train[\"Fare\"].mean()) / df_train[\"Fare\"].std()\n",
        "# Embarked\n",
        "# fillna(\"S\") : missing data에 대한 처리\n",
        "x_train[:, 3] = df_train[\"Embarked\"].fillna(\"S\").map( {\"S\": 0, \"Q\": 1, \"C\": 2} ).astype(float)\n",
        "#AGE\n",
        "a = df_train[\"Age\"].mean()\n",
        "x_train[:, 4] = df_train[\"Age\"].fillna(a)\n",
        "x_train[:,4]= (df_train[\"Age\"] - df_train[\"Age\"].mean()) / df_train[\"Age\"].std()\n",
        "#SibSp\n",
        "a = df_train[\"SibSp\"].mean()\n",
        "x_train[:, 5] = df_train[\"SibSp\"].fillna(0)\n",
        "x_train[:,5]= (df_train[\"SibSp\"] - df_train[\"SibSp\"].mean()) / df_train[\"SibSp\"].std()\n",
        "#Parch\n",
        "a = df_train[\"Parch\"].mean()\n",
        "x_train[:, 6] = df_train[\"Parch\"].fillna(0)\n",
        "x_train[:,5]= (df_train[\"Parch\"] - df_train[\"Parch\"].mean()) / df_train[\"Parch\"].std()"
      ],
      "metadata": {
        "id": "__ZQNLhgUOXp"
      },
      "execution_count": 33,
      "outputs": []
    },
    {
      "cell_type": "code",
      "source": [
        "w = np.random.rand(7)\n",
        "b = np.random.rand()\n",
        "print(w, b)"
      ],
      "metadata": {
        "id": "I2yjQBIBUavo",
        "colab": {
          "base_uri": "https://localhost:8080/"
        },
        "outputId": "fe4added-e032-4e1d-be3d-fe7fcfbe3927"
      },
      "execution_count": 34,
      "outputs": [
        {
          "output_type": "stream",
          "name": "stdout",
          "text": [
            "[0.80112119 0.67922232 0.79997527 0.88191077 0.96967466 0.404429\n",
            " 0.74732469] 0.3373306663402206\n"
          ]
        }
      ]
    },
    {
      "cell_type": "code",
      "source": [
        "def sigmoid(x):\n",
        " return 1.0 / (1.0 + np.exp(-x))\n",
        "def hypothesis(w, x, b):\n",
        " return sigmoid(x.dot(w) + b)\n",
        "def cost_function(h, y):\n",
        " return -np.mean(y * np.log(h + 1e-8) + (1.0 - y) * np.log(1.0 - h + 1e-8))"
      ],
      "metadata": {
        "id": "bmQPEUBeUOaB"
      },
      "execution_count": 35,
      "outputs": []
    },
    {
      "cell_type": "code",
      "source": [
        "epoch = 30000\n",
        "alpha = 5e-3\n",
        "total_loss = []\n",
        "for i in range(epoch):\n",
        " h = hypothesis(w, x_train, b)\n",
        " loss = cost_function(h, y_train)\n",
        "\n",
        " for j in range(4):\n",
        "  w[j] = w[j] - alpha * np.mean((h - y_train) * x_train[:, j])\n",
        " b = b - alpha * np.mean((h - y_train))\n",
        " total_loss.append(loss)\n",
        "total_loss = np.array(total_loss) "
      ],
      "metadata": {
        "id": "DMjpLXMsUOcp"
      },
      "execution_count": 36,
      "outputs": []
    },
    {
      "cell_type": "code",
      "source": [
        "plt.plot(10.0 * np.log(total_loss / (np.max(total_loss + 1e-5))))\n",
        "plt.show()"
      ],
      "metadata": {
        "id": "KCXDIOs3UOfB",
        "colab": {
          "base_uri": "https://localhost:8080/",
          "height": 430
        },
        "outputId": "89f072ad-ea56-4f7c-8fe0-d44ccc1772ce"
      },
      "execution_count": 37,
      "outputs": [
        {
          "output_type": "display_data",
          "data": {
            "text/plain": [
              "<Figure size 640x480 with 1 Axes>"
            ],
            "image/png": "[encoded data removed]"
          },
          "metadata": {}
        }
      ]
    },
    {
      "cell_type": "code",
      "source": [
        "# 자신의 경로에 맞게 설정하자!\n",
        "# Test 데이터셋에 대한 File Open\n",
        "df_test = pd.read_csv('/content/gdrive/My Drive/CSV/test.csv')\n",
        "df_test.head(5)"
      ],
      "metadata": {
        "id": "nl4F_7NeUOhh",
        "colab": {
          "base_uri": "https://localhost:8080/",
          "height": 320
        },
        "outputId": "ec209c53-5207-49b9-95e6-a49096d7f53b"
      },
      "execution_count": 38,
      "outputs": [
        {
          "output_type": "execute_result",
          "data": {
            "text/plain": [
              "   PassengerId  Pclass                                          Name     Sex  \\\n",
              "0          892       3                              Kelly, Mr. James    male   \n",
              "1          893       3              Wilkes, Mrs. James (Ellen Needs)  female   \n",
              "2          894       2                     Myles, Mr. Thomas Francis    male   \n",
              "3          895       3                              Wirz, Mr. Albert    male   \n",
              "4          896       3  Hirvonen, Mrs. Alexander (Helga E Lindqvist)  female   \n",
              "\n",
              "    Age  SibSp  Parch   Ticket     Fare Cabin Embarked  \n",
              "0  34.5      0      0   330911   7.8292   NaN        Q  \n",
              "1  47.0      1      0   363272   7.0000   NaN        S  \n",
              "2  62.0      0      0   240276   9.6875   NaN        Q  \n",
              "3  27.0      0      0   315154   8.6625   NaN        S  \n",
              "4  22.0      1      1  3101298  12.2875   NaN        S  "
            ],
            "text/html": [
              "\n",
              "  <div id=\"df-a79c295b-8a55-4f98-a15f-a724cef2a9f5\">\n",
              "    <div class=\"colab-df-container\">\n",
              "      <div>\n",
              "<style scoped>\n",
              "    .dataframe tbody tr th:only-of-type {\n",
              "        vertical-align: middle;\n",
              "    }\n",
              "\n",
              "    .dataframe tbody tr th {\n",
              "        vertical-align: top;\n",
              "    }\n",
              "\n",
              "    .dataframe thead th {\n",
              "        text-align: right;\n",
              "    }\n",
              "</style>\n",
              "<table border=\"1\" class=\"dataframe\">\n",
              "  <thead>\n",
              "    <tr style=\"text-align: right;\">\n",
              "      <th></th>\n",
              "      <th>PassengerId</th>\n",
              "      <th>Pclass</th>\n",
              "      <th>Name</th>\n",
              "      <th>Sex</th>\n",
              "      <th>Age</th>\n",
              "      <th>SibSp</th>\n",
              "      <th>Parch</th>\n",
              "      <th>Ticket</th>\n",
              "      <th>Fare</th>\n",
              "      <th>Cabin</th>\n",
              "      <th>Embarked</th>\n",
              "    </tr>\n",
              "  </thead>\n",
              "  <tbody>\n",
              "    <tr>\n",
              "      <th>0</th>\n",
              "      <td>892</td>\n",
              "      <td>3</td>\n",
              "      <td>Kelly, Mr. James</td>\n",
              "      <td>male</td>\n",
              "      <td>34.5</td>\n",
              "      <td>0</td>\n",
              "      <td>0</td>\n",
              "      <td>330911</td>\n",
              "      <td>7.8292</td>\n",
              "      <td>NaN</td>\n",
              "      <td>Q</td>\n",
              "    </tr>\n",
              "    <tr>\n",
              "      <th>1</th>\n",
              "      <td>893</td>\n",
              "      <td>3</td>\n",
              "      <td>Wilkes, Mrs. James (Ellen Needs)</td>\n",
              "      <td>female</td>\n",
              "      <td>47.0</td>\n",
              "      <td>1</td>\n",
              "      <td>0</td>\n",
              "      <td>363272</td>\n",
              "      <td>7.0000</td>\n",
              "      <td>NaN</td>\n",
              "      <td>S</td>\n",
              "    </tr>\n",
              "    <tr>\n",
              "      <th>2</th>\n",
              "      <td>894</td>\n",
              "      <td>2</td>\n",
              "      <td>Myles, Mr. Thomas Francis</td>\n",
              "      <td>male</td>\n",
              "      <td>62.0</td>\n",
              "      <td>0</td>\n",
              "      <td>0</td>\n",
              "      <td>240276</td>\n",
              "      <td>9.6875</td>\n",
              "      <td>NaN</td>\n",
              "      <td>Q</td>\n",
              "    </tr>\n",
              "    <tr>\n",
              "      <th>3</th>\n",
              "      <td>895</td>\n",
              "      <td>3</td>\n",
              "      <td>Wirz, Mr. Albert</td>\n",
              "      <td>male</td>\n",
              "      <td>27.0</td>\n",
              "      <td>0</td>\n",
              "      <td>0</td>\n",
              "      <td>315154</td>\n",
              "      <td>8.6625</td>\n",
              "      <td>NaN</td>\n",
              "      <td>S</td>\n",
              "    </tr>\n",
              "    <tr>\n",
              "      <th>4</th>\n",
              "      <td>896</td>\n",
              "      <td>3</td>\n",
              "      <td>Hirvonen, Mrs. Alexander (Helga E Lindqvist)</td>\n",
              "      <td>female</td>\n",
              "      <td>22.0</td>\n",
              "      <td>1</td>\n",
              "      <td>1</td>\n",
              "      <td>3101298</td>\n",
              "      <td>12.2875</td>\n",
              "      <td>NaN</td>\n",
              "      <td>S</td>\n",
              "    </tr>\n",
              "  </tbody>\n",
              "</table>\n",
              "</div>\n",
              "      <button class=\"colab-df-convert\" onclick=\"convertToInteractive('df-a79c295b-8a55-4f98-a15f-a724cef2a9f5')\"\n",
              "              title=\"Convert this dataframe to an interactive table.\"\n",
              "              style=\"display:none;\">\n",
              "        \n",
              "  <svg xmlns=\"http://www.w3.org/2000/svg\" height=\"24px\"viewBox=\"0 0 24 24\"\n",
              "       width=\"24px\">\n",
              "    <path d=\"M0 0h24v24H0V0z\" fill=\"none\"/>\n",
              "    <path d=\"M18.56 5.44l.94 2.06.94-2.06 2.06-.94-2.06-.94-.94-2.06-.94 2.06-2.06.94zm-11 1L8.5 8.5l.94-2.06 2.06-.94-2.06-.94L8.5 2.5l-.94 2.06-2.06.94zm10 10l.94 2.06.94-2.06 2.06-.94-2.06-.94-.94-2.06-.94 2.06-2.06.94z\"/><path d=\"M17.41 7.96l-1.37-1.37c-.4-.4-.92-.59-1.43-.59-.52 0-1.04.2-1.43.59L10.3 9.45l-7.72 7.72c-.78.78-.78 2.05 0 2.83L4 21.41c.39.39.9.59 1.41.59.51 0 1.02-.2 1.41-.59l7.78-7.78 2.81-2.81c.8-.78.8-2.07 0-2.86zM5.41 20L4 18.59l7.72-7.72 1.47 1.35L5.41 20z\"/>\n",
              "  </svg>\n",
              "      </button>\n",
              "      \n",
              "  <style>\n",
              "    .colab-df-container {\n",
              "      display:flex;\n",
              "      flex-wrap:wrap;\n",
              "      gap: 12px;\n",
              "    }\n",
              "\n",
              "    .colab-df-convert {\n",
              "      background-color: #E8F0FE;\n",
              "      border: none;\n",
              "      border-radius: 50%;\n",
              "      cursor: pointer;\n",
              "      display: none;\n",
              "      fill: #1967D2;\n",
              "      height: 32px;\n",
              "      padding: 0 0 0 0;\n",
              "      width: 32px;\n",
              "    }\n",
              "\n",
              "    .colab-df-convert:hover {\n",
              "      background-color: #E2EBFA;\n",
              "      box-shadow: 0px 1px 2px rgba(60, 64, 67, 0.3), 0px 1px 3px 1px rgba(60, 64, 67, 0.15);\n",
              "      fill: #174EA6;\n",
              "    }\n",
              "\n",
              "    [theme=dark] .colab-df-convert {\n",
              "      background-color: #3B4455;\n",
              "      fill: #D2E3FC;\n",
              "    }\n",
              "\n",
              "    [theme=dark] .colab-df-convert:hover {\n",
              "      background-color: #434B5C;\n",
              "      box-shadow: 0px 1px 3px 1px rgba(0, 0, 0, 0.15);\n",
              "      filter: drop-shadow(0px 1px 2px rgba(0, 0, 0, 0.3));\n",
              "      fill: #FFFFFF;\n",
              "    }\n",
              "  </style>\n",
              "\n",
              "      <script>\n",
              "        const buttonEl =\n",
              "          document.querySelector('#df-a79c295b-8a55-4f98-a15f-a724cef2a9f5 button.colab-df-convert');\n",
              "        buttonEl.style.display =\n",
              "          google.colab.kernel.accessAllowed ? 'block' : 'none';\n",
              "\n",
              "        async function convertToInteractive(key) {\n",
              "          const element = document.querySelector('#df-a79c295b-8a55-4f98-a15f-a724cef2a9f5');\n",
              "          const dataTable =\n",
              "            await google.colab.kernel.invokeFunction('convertToInteractive',\n",
              "                                                     [key], {});\n",
              "          if (!dataTable) return;\n",
              "\n",
              "          const docLinkHtml = 'Like what you see? Visit the ' +\n",
              "            '<a target=\"_blank\" href=https://colab.research.google.com/notebooks/data_table.ipynb>data table notebook</a>'\n",
              "            + ' to learn more about interactive tables.';\n",
              "          element.innerHTML = '';\n",
              "          dataTable['output_type'] = 'display_data';\n",
              "          await google.colab.output.renderOutput(dataTable, element);\n",
              "          const docLink = document.createElement('div');\n",
              "          docLink.innerHTML = docLinkHtml;\n",
              "          element.appendChild(docLink);\n",
              "        }\n",
              "      </script>\n",
              "    </div>\n",
              "  </div>\n",
              "  "
            ]
          },
          "metadata": {},
          "execution_count": 38
        }
      ]
    },
    {
      "cell_type": "code",
      "source": [
        "# Input Feature는 4개만 활용함\n",
        "x_test = np.zeros([len(df_test), 7])\n",
        "print(x_test.shape)"
      ],
      "metadata": {
        "id": "jshBywfFUOkB",
        "colab": {
          "base_uri": "https://localhost:8080/"
        },
        "outputId": "6deebe11-eda7-4ce0-b4a5-1ebb30b124f3"
      },
      "execution_count": 39,
      "outputs": [
        {
          "output_type": "stream",
          "name": "stdout",
          "text": [
            "(418, 7)\n"
          ]
        }
      ]
    },
    {
      "cell_type": "code",
      "source": [
        "# Sex\n",
        "x_test[:, 0] = df_test[\"Sex\"].map( {\"male\": 0, \"female\": 1} ).astype(float)\n",
        "# Pclass\n",
        "x_test[:, 1] = df_test[\"Pclass\"].map( {3: 0, 2: 1, 1: 2} ).astype(float)\n",
        "# Fare\n",
        "# fillna(df_train[\"Fare\"].mean()) : missing data에 대한 처리\n",
        "x_test[:, 2] = (df_test[\"Fare\"].fillna(df_train[\"Fare\"].mean()) - df_train[\"Fare\"].mean()) / df_train[\"Fare\"].std()\n",
        "# Embarked\n",
        "x_test[:, 3] = df_test[\"Embarked\"].map( {\"S\": 0, \"Q\": 1, \"C\": 2} ).astype(float)\n",
        "#AGE\n",
        "a = df_test[\"Age\"].mean()\n",
        "x_test[:, 4] = df_test[\"Age\"].fillna(a)\n",
        "x_test[:,4]= (df_test[\"Age\"] - df_test[\"Age\"].mean()) / df_test[\"Age\"].std()\n",
        "#SibSp\n",
        "a = df_test[\"SibSp\"].mean()\n",
        "x_test[:, 5] = df_test[\"SibSp\"].fillna(0)\n",
        "x_test[:,5]= (df_test[\"SibSp\"] - df_test[\"SibSp\"].mean()) / df_test[\"SibSp\"].std()\n",
        "#Parch\n",
        "a = df_test[\"Parch\"].mean()\n",
        "x_test[:, 6] = df_test[\"Parch\"].fillna(0)\n",
        "x_test[:,5]= (df_test[\"Parch\"] - df_test[\"Parch\"].mean()) / df_test[\"Parch\"].std()"
      ],
      "metadata": {
        "id": "1x9TQRRqUt9b"
      },
      "execution_count": 40,
      "outputs": []
    },
    {
      "cell_type": "code",
      "source": [
        "y_pred = hypothesis(w, x_test, b)\n",
        "y_pred = np.round(y_pred)\n",
        "print(y_pred.shape)\n"
      ],
      "metadata": {
        "id": "YDUbkvk4UuAT",
        "colab": {
          "base_uri": "https://localhost:8080/"
        },
        "outputId": "d1f8af48-3775-44d6-d2fc-94b285cb1b86"
      },
      "execution_count": 41,
      "outputs": [
        {
          "output_type": "stream",
          "name": "stdout",
          "text": [
            "(418,)\n"
          ]
        }
      ]
    },
    {
      "cell_type": "code",
      "source": [
        "submission = pd.DataFrame({\n",
        " \"PassengerId\" : df_test[\"PassengerId\"].astype(int),\n",
        " \"Survived\" : y_pred.astype(int)\n",
        "})\n",
        "# 구글 코랩에 대한 파일 경로를 추가하자!\n",
        "submission.to_csv(\"/content/gdrive/My Drive/CSV/result.csv\", index=False)\n"
      ],
      "metadata": {
        "id": "lESNQoQLUuC5"
      },
      "execution_count": 42,
      "outputs": []
    },
    {
      "cell_type": "code",
      "source": [],
      "metadata": {
        "id": "0y-EsRSyUuFb"
      },
      "execution_count": null,
      "outputs": []
    },
    {
      "cell_type": "code",
      "source": [],
      "metadata": {
        "id": "GYMZuZTVUuIE"
      },
      "execution_count": null,
      "outputs": []
    },
    {
      "cell_type": "code",
      "source": [],
      "metadata": {
        "id": "RvvN3KJNUuKn"
      },
      "execution_count": null,
      "outputs": []
    }
  ]
}