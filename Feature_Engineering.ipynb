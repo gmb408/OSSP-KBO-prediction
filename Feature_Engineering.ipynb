{
  "nbformat": 4,
  "nbformat_minor": 0,
  "metadata": {
    "colab": {
      "provenance": [],
      "authorship_tag": "ABX9TyPUNiGoRCt+t2VdjdAfegs9",
      "include_colab_link": true
    },
    "kernelspec": {
      "name": "python3",
      "display_name": "Python 3"
    },
    "language_info": {
      "name": "python"
    }
  },
  "cells": [
    {
      "cell_type": "markdown",
      "metadata": {
        "id": "view-in-github",
        "colab_type": "text"
      },
      "source": [
        "<a href=\"https://colab.research.google.com/github/gmb408/OSSP-KBO-prediction/blob/main/Feature_Engineering.ipynb\" target=\"_parent\"><img src=\"https://colab.research.google.com/assets/colab-badge.svg\" alt=\"Open In Colab\"/></a>"
      ]
    },
    {
      "cell_type": "code",
      "execution_count": 37,
      "metadata": {
        "id": "tXwo_RcAsdKv"
      },
      "outputs": [],
      "source": [
        "# 데이터 분석 모듈\n",
        "import pandas as pd\n",
        "import numpy as np\n",
        "import matplotlib.pyplot as plt\n",
        "import seaborn as sns\n",
        "import time\n",
        "from datetime import datetime\n",
        "import matplotlib.pyplot as plt \n",
        "import numpy as np \n",
        "from scipy.stats import norm "
      ]
    },
    {
      "cell_type": "code",
      "source": [
        "result = pd.read_csv(\"/content/statiz_pre.csv\", index_col=0)"
      ],
      "metadata": {
        "id": "ry1h0-qHsllG"
      },
      "execution_count": 38,
      "outputs": []
    },
    {
      "cell_type": "code",
      "source": [
        "# 이상치 결측치 제거\n",
        "result.drop(result.loc[result['타석']<100].index, inplace=True)\n",
        "result=result.reset_index(drop=True)"
      ],
      "metadata": {
        "id": "rzrSae79PjCD"
      },
      "execution_count": 39,
      "outputs": []
    },
    {
      "cell_type": "code",
      "source": [
        "# 단타 feature 생성\n",
        "result['1타'] = result['안타'] - result['2타'] - result['3타'] - result['홈런']\n",
        "# 순출루율\n",
        "result['isoD'] = result['출루'] - result['타율']\n",
        "# 순창타율\n",
        "result['isoP'] = result['장타'] - result['타율']"
      ],
      "metadata": {
        "id": "9OdNwkMssln7"
      },
      "execution_count": 40,
      "outputs": []
    },
    {
      "cell_type": "code",
      "source": [
        "# 사용 features 명시\n",
        "infos = ['ID','이름','생일','팀','시즌','포지션','나이']\n",
        "stats = ['G','타수','타석','득점','안타','1타','2타','3타','홈런','루타','타점','볼넷','삼진'\\\n",
        "        ,'타율','출루','isoD','장타','isoP','OPS','wOBA','wRC+','WAR+']\n",
        "result = result[infos+stats]"
      ],
      "metadata": {
        "id": "qlM89yQAslqn"
      },
      "execution_count": 41,
      "outputs": []
    },
    {
      "cell_type": "code",
      "source": [
        "# 해당 시즌 이전까지의 누적 기록\n",
        "def get_ative(player_id, season, stat=stats ,df=result):\n",
        "    try:\n",
        "        result_cum = df[(df['ID']==player_id) & (df['시즌'] <= season)][stat]\n",
        "        result_cum = len(result_cum)\n",
        "        \n",
        "    except:\n",
        "        result_cum['연차'] = np.nan \n",
        "        result_cum = pd.Series(result_cum)\n",
        "    \n",
        "    return result_cum\n"
      ],
      "metadata": {
        "id": "OUHVWZ6qayjV"
      },
      "execution_count": 42,
      "outputs": []
    },
    {
      "cell_type": "code",
      "source": [
        "# 해당 시즌 이전까지의 누적 기록\n",
        "def get_cumulative(player_id, season, stat=stats ,df=result):\n",
        "    try:\n",
        "        result_cum = df[(df['ID']==player_id) & (df['시즌'] < season)][stat]\n",
        "        result_cum = result_cum.mean()\n",
        "        \n",
        "    except:\n",
        "        result_cum = [np.nan for i in stat]\n",
        "        result_cum = pd.Series(result_cum)\n",
        "\n",
        "    \n",
        "    return result_cum"
      ],
      "metadata": {
        "id": "y0uoN1BLsltD"
      },
      "execution_count": 43,
      "outputs": []
    },
    {
      "cell_type": "code",
      "source": [
        "# 모든 stats에 대한 누적 stat 나이별 스텟\n",
        "stats_cum = [i + '_누적' for i in stats]"
      ],
      "metadata": {
        "id": "LFLA8oD7slvv"
      },
      "execution_count": 44,
      "outputs": []
    },
    {
      "cell_type": "code",
      "source": [],
      "metadata": {
        "id": "Boum1QhWePI6"
      },
      "execution_count": 35,
      "outputs": []
    },
    {
      "cell_type": "code",
      "source": [
        "# 누적 stat 데이터프레임에 반영\n",
        "result[stats_cum] = result.apply(lambda x: get_cumulative(x['ID'], x['시즌']), axis=1)"
      ],
      "metadata": {
        "id": "iORllxFps0mc"
      },
      "execution_count": 45,
      "outputs": []
    },
    {
      "cell_type": "code",
      "source": [
        "# lag stat (직전 몇년의 기록)\n",
        "def get_lag(player_id, season, lag, stat=stats, df=result):\n",
        "    try:\n",
        "        result_lag = df[(df['ID']==player_id)&(df['시즌'] == season-lag)][stat].values[0]\n",
        "        result_lag = pd.Series(result_lag)\n",
        "        \n",
        "    except:\n",
        "        result_lag = [np.nan for i in stat]\n",
        "        result_lag = pd.Series(result_lag)\n",
        "        \n",
        "    return result_lag\n"
      ],
      "metadata": {
        "id": "dDkKUTU3slyH"
      },
      "execution_count": 46,
      "outputs": []
    },
    {
      "cell_type": "code",
      "source": [
        "# 직전 1,2,3년의 기록\n",
        "stats_lag1 = [i + '_LAG1' for i in stats]\n",
        "stats_lag2 = [i + '_LAG2' for i in stats]\n",
        "stats_lag3 = [i + '_LAG3' for i in stats]"
      ],
      "metadata": {
        "id": "HCOVgL1Ms6MK"
      },
      "execution_count": 47,
      "outputs": []
    },
    {
      "cell_type": "code",
      "source": [
        "# lag1\n",
        "result[stats_lag1] = result.apply(lambda x: get_lag(x['ID'],x['시즌'], lag=1), axis=1)"
      ],
      "metadata": {
        "id": "VfR1avl9s6O-"
      },
      "execution_count": 48,
      "outputs": []
    },
    {
      "cell_type": "code",
      "source": [
        "# lag2\n",
        "result[stats_lag2] = result.apply(lambda x: get_lag(x['ID'],x['시즌'], lag=2), axis=1)"
      ],
      "metadata": {
        "id": "aJVisN7gs6Rs"
      },
      "execution_count": 49,
      "outputs": []
    },
    {
      "cell_type": "code",
      "source": [
        "# lag3\n",
        "result[stats_lag3] = result.apply(lambda x: get_lag(x['ID'],x['시즌'], lag=3), axis=1)"
      ],
      "metadata": {
        "id": "EmOZZkRts6UY"
      },
      "execution_count": 50,
      "outputs": []
    },
    {
      "cell_type": "code",
      "source": [
        "# 내년 기록 (OPS, 장타, 출루)\n",
        "# 데이터 프레임의 정답 셋 만들기 위함\n",
        "\n",
        "def get_next_year(player_id, season, stat=['장타','출루','OPS'],df=result):\n",
        "    try:\n",
        "        result = df[(df['ID']==player_id)&(df['시즌']==season+1)][stat].values[0]\n",
        "        result = pd.Series(result)\n",
        "    except:\n",
        "        result = [np.nan for i in stat]\n",
        "        result = pd.Series(result)\n",
        "        \n",
        "    return result"
      ],
      "metadata": {
        "id": "CjkWXUpLs6W_"
      },
      "execution_count": 51,
      "outputs": []
    },
    {
      "cell_type": "code",
      "source": [
        "# 장타, 출루, OPS의 내년 기록\n",
        "stats_next = [i + '_NEXT' for i in ['장타', '출루', 'OPS']]\n",
        "result[stats_next] = result.apply(lambda x: get_next_year(x['ID'], x['시즌']), axis=1)"
      ],
      "metadata": {
        "id": "zpFkaf7ks6Zs"
      },
      "execution_count": 52,
      "outputs": []
    },
    {
      "cell_type": "code",
      "source": [
        "result['연차'] = result.apply(lambda x: get_ative(x['ID'], x['시즌']), axis=1)"
      ],
      "metadata": {
        "id": "GFgx0MsEafK4"
      },
      "execution_count": 53,
      "outputs": []
    },
    {
      "cell_type": "code",
      "source": [
        "# 변환 데이터 저장\n",
        "result.to_csv(\"/content/statiz_Final.csv\")\n",
        "result.columns"
      ],
      "metadata": {
        "id": "xxIKYYIbs6cP",
        "colab": {
          "base_uri": "https://localhost:8080/"
        },
        "outputId": "8396876b-7f94-4d2f-9842-d16c45e1838b"
      },
      "execution_count": 54,
      "outputs": [
        {
          "output_type": "execute_result",
          "data": {
            "text/plain": [
              "Index(['ID', '이름', '생일', '팀', '시즌', '포지션', '나이', 'G', '타수', '타석',\n",
              "       ...\n",
              "       '장타_LAG3', 'isoP_LAG3', 'OPS_LAG3', 'wOBA_LAG3', 'wRC+_LAG3',\n",
              "       'WAR+_LAG3', '장타_NEXT', '출루_NEXT', 'OPS_NEXT', '연차'],\n",
              "      dtype='object', length=121)"
            ]
          },
          "metadata": {},
          "execution_count": 54
        }
      ]
    }
  ]
}