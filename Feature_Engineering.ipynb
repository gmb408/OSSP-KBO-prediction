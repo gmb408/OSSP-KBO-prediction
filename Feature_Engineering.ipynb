{
  "nbformat": 4,
  "nbformat_minor": 0,
  "metadata": {
    "colab": {
      "provenance": [],
      "authorship_tag": "ABX9TyOUSzbhjnQQlYPw8xKzPgxY",
      "include_colab_link": true
    },
    "kernelspec": {
      "name": "python3",
      "display_name": "Python 3"
    },
    "language_info": {
      "name": "python"
    }
  },
  "cells": [
    {
      "cell_type": "markdown",
      "metadata": {
        "id": "view-in-github",
        "colab_type": "text"
      },
      "source": [
        "<a href=\"https://colab.research.google.com/github/gmb408/OSSP-KBO-prediction/blob/version-0.1/Feature_Engineering.ipynb\" target=\"_parent\"><img src=\"https://colab.research.google.com/assets/colab-badge.svg\" alt=\"Open In Colab\"/></a>"
      ]
    },
    {
      "cell_type": "code",
      "execution_count": 11,
      "metadata": {
        "id": "tXwo_RcAsdKv"
      },
      "outputs": [],
      "source": [
        "# 데이터 분석 모듈\n",
        "import pandas as pd\n",
        "import numpy as np\n",
        "import matplotlib.pyplot as plt\n",
        "import seaborn as sns\n",
        "import time\n",
        "from datetime import datetime"
      ]
    },
    {
      "cell_type": "code",
      "source": [
        "result = pd.read_csv(\"/content/statiz_pre.csv\", index_col=0)"
      ],
      "metadata": {
        "id": "ry1h0-qHsllG"
      },
      "execution_count": 12,
      "outputs": []
    },
    {
      "cell_type": "code",
      "source": [
        "# 단타 feature 생성\n",
        "result['1타'] = result['안타'] - result['2타'] - result['3타'] - result['홈런']"
      ],
      "metadata": {
        "id": "9OdNwkMssln7"
      },
      "execution_count": 13,
      "outputs": []
    },
    {
      "cell_type": "code",
      "source": [
        "# 사용 features 명시\n",
        "infos = ['ID','이름','생일','팀','시즌','포지션','나이']\n",
        "stats = ['G','타수','득점','안타','1타','2타','3타','홈런','루타','타점','사사구','삼진','타율','출루','장타','OPS','wOBA','wRC+','WAR+']\n",
        "result['사사구'] = result['볼넷'] + result['사구']\n",
        "result = result[infos] + result[stats]\n"
      ],
      "metadata": {
        "id": "qlM89yQAslqn"
      },
      "execution_count": 14,
      "outputs": []
    },
    {
      "cell_type": "code",
      "source": [
        "# 해당 시즌 이전까지의 누적 기록\n",
        "def get_cumulative(player_id, season, stat=stats ,df=result):\n",
        "    try:\n",
        "        result_cum = df[(df['ID']==player_id) & (df['시즌'] < season)][stat]\n",
        "        result_cum = result_cum.mean()\n",
        "        \n",
        "    except:\n",
        "        result_cum = [np.nan for i in stat]\n",
        "        result_cum = pd.Series(result_cum)\n",
        "    \n",
        "    return result_cum"
      ],
      "metadata": {
        "id": "y0uoN1BLsltD"
      },
      "execution_count": 15,
      "outputs": []
    },
    {
      "cell_type": "code",
      "source": [
        "# 모든 stats에 대한 누적 stat\n",
        "stats_cum = [i + '_누적' for i in stats]"
      ],
      "metadata": {
        "id": "LFLA8oD7slvv"
      },
      "execution_count": 16,
      "outputs": []
    },
    {
      "cell_type": "code",
      "source": [
        "# 누적 stat 데이터프레임에 반영\n",
        "result[stats_cum] = result.apply(lambda x: get_cumulative(x['ID'], x['시즌']), axis=1)"
      ],
      "metadata": {
        "id": "iORllxFps0mc"
      },
      "execution_count": 17,
      "outputs": []
    },
    {
      "cell_type": "code",
      "source": [
        "# lag stat (직전 몇년의 기록)\n",
        "def get_lag(player_id, season, lag, stat=stats, df=result):\n",
        "    try:\n",
        "        result_lag = df[(df['ID']==player_id)&(df['시즌'] == season-lag)][stat].values[0]\n",
        "        result_lag = pd.Series(result_lag)\n",
        "        \n",
        "    except:\n",
        "        result_lag = [np.nan for i in stat]\n",
        "        result_lag = pd.Series(result_lag)\n",
        "        \n",
        "    return result_lag"
      ],
      "metadata": {
        "id": "dDkKUTU3slyH"
      },
      "execution_count": 18,
      "outputs": []
    },
    {
      "cell_type": "code",
      "source": [
        "\n",
        "# 직전 1,2,3년의 기록\n",
        "stats_lag1 = [i + '_LAG1' for i in stats]\n",
        "stats_lag2 = [i + '_LAG2' for i in stats]\n",
        "stats_lag3 = [i + '_LAG3' for i in stats]"
      ],
      "metadata": {
        "id": "HCOVgL1Ms6MK"
      },
      "execution_count": 19,
      "outputs": []
    },
    {
      "cell_type": "code",
      "source": [
        "# lag1\n",
        "result[stats_lag1] = result.apply(lambda x: get_lag(x['ID'],x['시즌'], lag=1), axis=1)"
      ],
      "metadata": {
        "id": "VfR1avl9s6O-"
      },
      "execution_count": 20,
      "outputs": []
    },
    {
      "cell_type": "code",
      "source": [
        "# lag2\n",
        "result[stats_lag2] = result.apply(lambda x: get_lag(x['ID'],x['시즌'], lag=2), axis=1)"
      ],
      "metadata": {
        "id": "aJVisN7gs6Rs"
      },
      "execution_count": 21,
      "outputs": []
    },
    {
      "cell_type": "code",
      "source": [
        "# lag3\n",
        "result[stats_lag3] = result.apply(lambda x: get_lag(x['ID'],x['시즌'], lag=3), axis=1)"
      ],
      "metadata": {
        "id": "EmOZZkRts6UY"
      },
      "execution_count": 22,
      "outputs": []
    },
    {
      "cell_type": "code",
      "source": [
        "# 내년 기록 (OPS, 장타, 출루)\n",
        "# 데이터 프레임의 정답 셋 만들기 위함\n",
        "\n",
        "def get_next_year(player_id, season, stat=['장타','출루','OPS'],df=result):\n",
        "    try:\n",
        "        result = df[(df['ID']==player_id)&(df['시즌']==season+1)][stat].values[0]\n",
        "        result = pd.Series(result)\n",
        "    except:\n",
        "        result = [np.nan for i in stat]\n",
        "        result = pd.Series(result)\n",
        "        \n",
        "    return result"
      ],
      "metadata": {
        "id": "CjkWXUpLs6W_"
      },
      "execution_count": 23,
      "outputs": []
    },
    {
      "cell_type": "code",
      "source": [
        "# 장타, 출루, OPS의 내년 기록\n",
        "stats_next = [i + '_NEXT' for i in ['장타', '출루', 'OPS']]\n",
        "result[stats_next] = result.apply(lambda x: get_next_year(x['ID'], x['시즌']), axis=1)"
      ],
      "metadata": {
        "id": "zpFkaf7ks6Zs"
      },
      "execution_count": 24,
      "outputs": []
    },
    {
      "cell_type": "code",
      "source": [
        "# 변환 데이터 저장\n",
        "result.to_csv(\"/content/statiz_Final.csv\")"
      ],
      "metadata": {
        "id": "xxIKYYIbs6cP"
      },
      "execution_count": 25,
      "outputs": []
    }
  ]
}