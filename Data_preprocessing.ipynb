{
  "nbformat": 4,
  "nbformat_minor": 0,
  "metadata": {
    "colab": {
      "provenance": [],
      "authorship_tag": "ABX9TyOEEXFvNqN5SmLfyCHDy/UT",
      "include_colab_link": true
    },
    "kernelspec": {
      "name": "python3",
      "display_name": "Python 3"
    },
    "language_info": {
      "name": "python"
    }
  },
  "cells": [
    {
      "cell_type": "markdown",
      "metadata": {
        "id": "view-in-github",
        "colab_type": "text"
      },
      "source": [
        "<a href=\"https://colab.research.google.com/github/gmb408/OSSP-KBO-prediction/blob/main/Data_preprocessing.ipynb\" target=\"_parent\"><img src=\"https://colab.research.google.com/assets/colab-badge.svg\" alt=\"Open In Colab\"/></a>"
      ]
    },
    {
      "cell_type": "code",
      "source": [
        "# 데이터 분석 모듈\n",
        "import pandas as pd\n",
        "import numpy as np\n",
        "import matplotlib.pyplot as plt\n",
        "import seaborn as sns\n",
        "import time\n",
        "from datetime import datetime"
      ],
      "metadata": {
        "id": "kPR0hi_0o7ZL"
      },
      "execution_count": null,
      "outputs": []
    },
    {
      "cell_type": "code",
      "source": [
        "submission = pd.read_csv(\"/content/submission.csv\")\n",
        "reg = pd.read_csv(\"/content/Regular_Season_Batter.csv\")\n"
      ],
      "metadata": {
        "id": "m1m0A8dDo-u7"
      },
      "execution_count": null,
      "outputs": []
    },
    {
      "cell_type": "code",
      "source": [
        "# 저장해둔 데이터 불러오기\n",
        "result = pd.read_csv(\"/content/statiz_origin.csv\", index_col=0)"
      ],
      "metadata": {
        "id": "7NYCZY3opUDf"
      },
      "execution_count": null,
      "outputs": []
    },
    {
      "cell_type": "code",
      "source": [
        "# 이름 분리 해서, '이름' column 추가\n",
        "result['이름'] = result['선수'].str.findall(\"^[ㄱ-힣]+\").apply(lambda x: x[0])\n",
        "\n",
        "# 기존 '선수' column 에 있던 이름 정보 제거\n",
        "result['선수'] = result.apply(lambda x: x['선수'].replace(x['이름'], ''), axis=1)"
      ],
      "metadata": {
        "id": "nhj7fdL8pUGD"
      },
      "execution_count": null,
      "outputs": []
    },
    {
      "cell_type": "code",
      "source": [
        "# '시즌' column 생성\n",
        "result['시즌'] = result['선수'].apply(lambda x: x[:2])\n",
        "\n",
        "# 기존 '선수' column 에 있던 시즌 정보 제거\n",
        "result['선수'] = result.apply(lambda x: x['선수'].replace(x['시즌'],''), axis=1)\n",
        "\n",
        "# 년도를 4자리 숫자로 바꾸어주기 ex) 98 -&gt; 1998, 15 -&gt; 2015\n",
        "result['시즌'] = result['시즌'].apply(lambda x: int(\"20\"+ x) if int(x) < 30 else int(\"19\"+x))"
      ],
      "metadata": {
        "id": "kAJl48r1pUIb"
      },
      "execution_count": null,
      "outputs": []
    },
    {
      "cell_type": "code",
      "source": [
        "# 포지션\n",
        "position = ['1B', '2B', '3B', 'SS', 'C', 'RF', 'LF', 'CF', 'DH'] \n",
        "\n",
        "# 포지션 여부 확인\n",
        "result['포지션여부'] = result['선수'].apply(lambda x : (np.isin(x[-2:], position) or np.isin(x[-1:], position))) \n",
        "\n",
        "# 포지션 분리\n",
        "result['포지션'] = result['선수'].apply(lambda x: x[-2:] if x[-2:] in position else x[-1:])\n",
        "\n",
        "#포지션이 기록 되어 있지 않으면, nan값 넣기 \n",
        "result.loc[result['포지션여부']==False, '포지션'] = np.nan"
      ],
      "metadata": {
        "id": "Z7uX0omUpULD"
      },
      "execution_count": null,
      "outputs": []
    },
    {
      "cell_type": "code",
      "source": [
        "# 팀 & 나이 column 생성\n",
        "result['팀'] = result.apply(lambda x: x['선수'].replace(x['포지션'],'') if type(x['포지션'])==str else x['선수'], axis=1)\n",
        "result['나이'] = result.apply(lambda x: x['시즌'] - int(x['생일'][:4]) + 1, axis=1)"
      ],
      "metadata": {
        "id": "UGU37x3vpUNT"
      },
      "execution_count": null,
      "outputs": []
    },
    {
      "cell_type": "code",
      "source": [
        "# 선수별 고유 아이디 부여\n",
        "info = result[['이름', '생일']].apply(lambda x: tuple(x), axis=1)\n",
        "\n",
        "player_id = {}\n",
        "for i,j in enumerate(info.unique()):\n",
        "    player_id[j] = i\n",
        "    \n",
        "result['ID'] = result.apply(lambda x: player_id[tuple([x['이름'], x['생일']])], axis=1)"
      ],
      "metadata": {
        "id": "GfVf4Ns3pnFX"
      },
      "execution_count": null,
      "outputs": []
    },
    {
      "cell_type": "code",
      "source": [
        "# submission에는 있지만, statiz에는 없는 이름 확인\n",
        "# 선수가 이름을 개명하여 submission과 statiz에 다르게 기록됨\n",
        "# statiz가 홈페이지를 업데이트를 할 때마다, 그리고 선수들이 개명을 할 때마다 다른 값이 나오므로,\n",
        "# 해당 코드를 돌릴 때마다 이름이 다르게 나올 수 있음 \n",
        "# 윤여운 -&gt; 윤수강 (submission : 윤수강 / statiz : 윤여운)\n",
        "# 이유찬 -&gt; 이병휘 (submission : 이병휘 / statiz : 이유찬)\n",
        "submission[~np.isin(submission['batter_name'], result['이름'])]"
      ],
      "metadata": {
        "colab": {
          "base_uri": "https://localhost:8080/",
          "height": 143
        },
        "id": "jzwKXSx0pnH3",
        "outputId": "03566311-90bc-45fc-bb87-8ee1853a4c15"
      },
      "execution_count": null,
      "outputs": [
        {
          "output_type": "execute_result",
          "data": {
            "text/plain": [
              "     batter_id batter_name\n",
              "93         136         백민기\n",
              "129        195         윤수강\n",
              "209        326         한동민"
            ],
            "text/html": [
              "\n",
              "  <div id=\"df-4c921b46-0855-434a-aadc-e0249c5a3d62\">\n",
              "    <div class=\"colab-df-container\">\n",
              "      <div>\n",
              "<style scoped>\n",
              "    .dataframe tbody tr th:only-of-type {\n",
              "        vertical-align: middle;\n",
              "    }\n",
              "\n",
              "    .dataframe tbody tr th {\n",
              "        vertical-align: top;\n",
              "    }\n",
              "\n",
              "    .dataframe thead th {\n",
              "        text-align: right;\n",
              "    }\n",
              "</style>\n",
              "<table border=\"1\" class=\"dataframe\">\n",
              "  <thead>\n",
              "    <tr style=\"text-align: right;\">\n",
              "      <th></th>\n",
              "      <th>batter_id</th>\n",
              "      <th>batter_name</th>\n",
              "    </tr>\n",
              "  </thead>\n",
              "  <tbody>\n",
              "    <tr>\n",
              "      <th>93</th>\n",
              "      <td>136</td>\n",
              "      <td>백민기</td>\n",
              "    </tr>\n",
              "    <tr>\n",
              "      <th>129</th>\n",
              "      <td>195</td>\n",
              "      <td>윤수강</td>\n",
              "    </tr>\n",
              "    <tr>\n",
              "      <th>209</th>\n",
              "      <td>326</td>\n",
              "      <td>한동민</td>\n",
              "    </tr>\n",
              "  </tbody>\n",
              "</table>\n",
              "</div>\n",
              "      <button class=\"colab-df-convert\" onclick=\"convertToInteractive('df-4c921b46-0855-434a-aadc-e0249c5a3d62')\"\n",
              "              title=\"Convert this dataframe to an interactive table.\"\n",
              "              style=\"display:none;\">\n",
              "        \n",
              "  <svg xmlns=\"http://www.w3.org/2000/svg\" height=\"24px\"viewBox=\"0 0 24 24\"\n",
              "       width=\"24px\">\n",
              "    <path d=\"M0 0h24v24H0V0z\" fill=\"none\"/>\n",
              "    <path d=\"M18.56 5.44l.94 2.06.94-2.06 2.06-.94-2.06-.94-.94-2.06-.94 2.06-2.06.94zm-11 1L8.5 8.5l.94-2.06 2.06-.94-2.06-.94L8.5 2.5l-.94 2.06-2.06.94zm10 10l.94 2.06.94-2.06 2.06-.94-2.06-.94-.94-2.06-.94 2.06-2.06.94z\"/><path d=\"M17.41 7.96l-1.37-1.37c-.4-.4-.92-.59-1.43-.59-.52 0-1.04.2-1.43.59L10.3 9.45l-7.72 7.72c-.78.78-.78 2.05 0 2.83L4 21.41c.39.39.9.59 1.41.59.51 0 1.02-.2 1.41-.59l7.78-7.78 2.81-2.81c.8-.78.8-2.07 0-2.86zM5.41 20L4 18.59l7.72-7.72 1.47 1.35L5.41 20z\"/>\n",
              "  </svg>\n",
              "      </button>\n",
              "      \n",
              "  <style>\n",
              "    .colab-df-container {\n",
              "      display:flex;\n",
              "      flex-wrap:wrap;\n",
              "      gap: 12px;\n",
              "    }\n",
              "\n",
              "    .colab-df-convert {\n",
              "      background-color: #E8F0FE;\n",
              "      border: none;\n",
              "      border-radius: 50%;\n",
              "      cursor: pointer;\n",
              "      display: none;\n",
              "      fill: #1967D2;\n",
              "      height: 32px;\n",
              "      padding: 0 0 0 0;\n",
              "      width: 32px;\n",
              "    }\n",
              "\n",
              "    .colab-df-convert:hover {\n",
              "      background-color: #E2EBFA;\n",
              "      box-shadow: 0px 1px 2px rgba(60, 64, 67, 0.3), 0px 1px 3px 1px rgba(60, 64, 67, 0.15);\n",
              "      fill: #174EA6;\n",
              "    }\n",
              "\n",
              "    [theme=dark] .colab-df-convert {\n",
              "      background-color: #3B4455;\n",
              "      fill: #D2E3FC;\n",
              "    }\n",
              "\n",
              "    [theme=dark] .colab-df-convert:hover {\n",
              "      background-color: #434B5C;\n",
              "      box-shadow: 0px 1px 3px 1px rgba(0, 0, 0, 0.15);\n",
              "      filter: drop-shadow(0px 1px 2px rgba(0, 0, 0, 0.3));\n",
              "      fill: #FFFFFF;\n",
              "    }\n",
              "  </style>\n",
              "\n",
              "      <script>\n",
              "        const buttonEl =\n",
              "          document.querySelector('#df-4c921b46-0855-434a-aadc-e0249c5a3d62 button.colab-df-convert');\n",
              "        buttonEl.style.display =\n",
              "          google.colab.kernel.accessAllowed ? 'block' : 'none';\n",
              "\n",
              "        async function convertToInteractive(key) {\n",
              "          const element = document.querySelector('#df-4c921b46-0855-434a-aadc-e0249c5a3d62');\n",
              "          const dataTable =\n",
              "            await google.colab.kernel.invokeFunction('convertToInteractive',\n",
              "                                                     [key], {});\n",
              "          if (!dataTable) return;\n",
              "\n",
              "          const docLinkHtml = 'Like what you see? Visit the ' +\n",
              "            '<a target=\"_blank\" href=https://colab.research.google.com/notebooks/data_table.ipynb>data table notebook</a>'\n",
              "            + ' to learn more about interactive tables.';\n",
              "          element.innerHTML = '';\n",
              "          dataTable['output_type'] = 'display_data';\n",
              "          await google.colab.output.renderOutput(dataTable, element);\n",
              "          const docLink = document.createElement('div');\n",
              "          docLink.innerHTML = docLinkHtml;\n",
              "          element.appendChild(docLink);\n",
              "        }\n",
              "      </script>\n",
              "    </div>\n",
              "  </div>\n",
              "  "
            ]
          },
          "metadata": {},
          "execution_count": 19
        }
      ]
    },
    {
      "cell_type": "code",
      "source": [
        "# 이름 변경\n",
        "result['이름'] = result['이름'].replace(\"윤여운\", \"윤수강\").replace('이유찬', '이병휘').replace('한동민','한유섬')"
      ],
      "metadata": {
        "id": "nlBv7ljypnKg"
      },
      "execution_count": null,
      "outputs": []
    },
    {
      "cell_type": "code",
      "source": [
        "# numeric data로 변환\n",
        "float_columns = result.iloc[:,1:27].columns\n",
        "result[float_columns] = result[float_columns].astype(float).fillna(0)"
      ],
      "metadata": {
        "id": "Nosu2m8spnM4"
      },
      "execution_count": null,
      "outputs": []
    },
    {
      "cell_type": "code",
      "source": [
        "# 필요한 features 선택\n",
        "cols = ['ID', '이름', '생일', '팀', '시즌', '포지션', '나이'] + list(float_columns)\n",
        "result = result[cols]"
      ],
      "metadata": {
        "id": "6EfD6BrZpnPe"
      },
      "execution_count": null,
      "outputs": []
    },
    {
      "cell_type": "code",
      "source": [
        "#결과값 저장해두기\n",
        "result.to_csv(\"/content/statiz_origin2.csv\")"
      ],
      "metadata": {
        "id": "DqHuk4lqpnR-"
      },
      "execution_count": null,
      "outputs": []
    },
    {
      "cell_type": "markdown",
      "source": [],
      "metadata": {
        "id": "K3NA4tz_qTbm"
      }
    },
    {
      "cell_type": "code",
      "source": [],
      "metadata": {
        "id": "twnjG9HAo7j-"
      },
      "execution_count": null,
      "outputs": []
    }
  ]
}