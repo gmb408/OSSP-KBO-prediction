{
  "nbformat": 4,
  "nbformat_minor": 0,
  "metadata": {
    "colab": {
      "provenance": [],
      "authorship_tag": "ABX9TyMIk2VICmAbtvTf5PE0IP/g",
      "include_colab_link": true
    },
    "kernelspec": {
      "name": "python3",
      "display_name": "Python 3"
    },
    "language_info": {
      "name": "python"
    }
  },
  "cells": [
    {
      "cell_type": "markdown",
      "metadata": {
        "id": "view-in-github",
        "colab_type": "text"
      },
      "source": [
        "<a href=\"https://colab.research.google.com/github/gmb408/OSSP-KBO-prediction/blob/version-0.1/Data_preprocessing.ipynb\" target=\"_parent\"><img src=\"https://colab.research.google.com/assets/colab-badge.svg\" alt=\"Open In Colab\"/></a>"
      ]
    },
    {
      "cell_type": "code",
      "source": [
        "# 데이터 분석 모듈\n",
        "import pandas as pd\n",
        "import numpy as np\n",
        "import matplotlib.pyplot as plt\n",
        "import seaborn as sns\n",
        "import time\n",
        "from datetime import datetime"
      ],
      "metadata": {
        "id": "kPR0hi_0o7ZL"
      },
      "execution_count": 17,
      "outputs": []
    },
    {
      "cell_type": "code",
      "source": [
        "# 저장해둔 데이터 불러오기\n",
        "result = pd.read_csv(\"/content/statiz_origin.csv\", index_col=0)\n",
        "result2 = pd.read_csv(\"/content/statiz_origin2.csv\", index_col=0)"
      ],
      "metadata": {
        "id": "7NYCZY3opUDf"
      },
      "execution_count": 18,
      "outputs": []
    },
    {
      "cell_type": "code",
      "source": [
        "#result2에만 존재하는 WPA 열 삭제 \n",
        "result2.drop(['WPA'],axis=1,inplace=True)"
      ],
      "metadata": {
        "id": "7vtlQbG94Qdn"
      },
      "execution_count": 19,
      "outputs": []
    },
    {
      "cell_type": "code",
      "source": [
        "#result1과 result2를 결합 1982~2022년도 데이터 \n",
        "result = result.append(result2)"
      ],
      "metadata": {
        "id": "6kG6HcYa41yr"
      },
      "execution_count": 20,
      "outputs": []
    },
    {
      "cell_type": "code",
      "source": [
        "# 이름 분리 해서, '이름' column 추가\n",
        "result['이름'] = result['선수'].str.findall(\"^[ㄱ-힣]+\").apply(lambda x: x[0])\n",
        "# 기존 '선수' column 에 있던 이름 정보 제거\n",
        "result['선수'] = result.apply(lambda x: x['선수'].replace(x['이름'], ''), axis=1)"
      ],
      "metadata": {
        "id": "nhj7fdL8pUGD"
      },
      "execution_count": 21,
      "outputs": []
    },
    {
      "cell_type": "code",
      "source": [
        "# '시즌' column 생성\n",
        "result['시즌'] = result['선수'].apply(lambda x: x[:2])\n",
        "\n",
        "# 기존 '선수' column 에 있던 시즌 정보 제거\n",
        "result['선수'] = result.apply(lambda x: x['선수'].replace(x['시즌'],''), axis=1)\n",
        "\n",
        "# 년도를 4자리 숫자로 바꾸어주기 ex) 98 -&gt; 1998, 15 -&gt; 2015\n",
        "result['시즌'] = result['시즌'].apply(lambda x: int(\"20\"+ x) if int(x) < 30 else int(\"19\"+x))"
      ],
      "metadata": {
        "id": "kAJl48r1pUIb"
      },
      "execution_count": 22,
      "outputs": []
    },
    {
      "cell_type": "code",
      "source": [
        "# 포지션\n",
        "position = ['1B', '2B', '3B', 'SS', 'C', 'RF', 'LF', 'CF', 'DH'] \n",
        "\n",
        "# 포지션 여부 확인\n",
        "result['포지션여부'] = result['선수'].apply(lambda x : (np.isin(x[-2:], position) or np.isin(x[-1:], position))) \n",
        "\n",
        "# 포지션 분리\n",
        "result['포지션'] = result['선수'].apply(lambda x: x[-2:] if x[-2:] in position else x[-1:])\n",
        "\n",
        "#포지션이 기록 되어 있지 않으면, nan값 넣기 \n",
        "result.loc[result['포지션여부']==False, '포지션'] = np.nan"
      ],
      "metadata": {
        "id": "Z7uX0omUpULD"
      },
      "execution_count": 23,
      "outputs": []
    },
    {
      "cell_type": "code",
      "source": [
        "# 팀 & 나이 column 생성\n",
        "result['팀'] = result.apply(lambda x: x['선수'].replace(x['포지션'],'') if type(x['포지션'])==str else x['선수'], axis=1)\n",
        "result['나이'] = result.apply(lambda x: x['시즌'] - int(x['생일'][:4]) + 1, axis=1)"
      ],
      "metadata": {
        "id": "UGU37x3vpUNT"
      },
      "execution_count": 24,
      "outputs": []
    },
    {
      "cell_type": "code",
      "source": [
        "# 선수별 고유 아이디 부여\n",
        "info = result[['이름', '생일']].apply(lambda x: tuple(x), axis=1)\n",
        "\n",
        "player_id = {}\n",
        "for i,j in enumerate(info.unique()):\n",
        "    player_id[j] = i\n",
        "    \n",
        "result['ID'] = result.apply(lambda x: player_id[tuple([x['이름'], x['생일']])], axis=1)"
      ],
      "metadata": {
        "id": "GfVf4Ns3pnFX"
      },
      "execution_count": 25,
      "outputs": []
    },
    {
      "cell_type": "code",
      "source": [
        "# numeric data로 변환\n",
        "float_columns = result.iloc[:,1:27].columns\n",
        "result[float_columns] = result[float_columns].astype(float).fillna(0)"
      ],
      "metadata": {
        "id": "Nosu2m8spnM4"
      },
      "execution_count": 26,
      "outputs": []
    },
    {
      "cell_type": "code",
      "source": [
        "# 필요한 features 선택\n",
        "cols = ['ID', '이름', '생일', '팀', '시즌', '포지션', '나이'] + list(float_columns)\n",
        "result = result[cols]\n"
      ],
      "metadata": {
        "id": "6EfD6BrZpnPe"
      },
      "execution_count": 27,
      "outputs": []
    },
    {
      "cell_type": "code",
      "source": [
        "#결과값 저장해두기\n",
        "result.to_csv(\"/content/statiz_pre.csv\")"
      ],
      "metadata": {
        "id": "DqHuk4lqpnR-"
      },
      "execution_count": 30,
      "outputs": []
    }
  ]
}